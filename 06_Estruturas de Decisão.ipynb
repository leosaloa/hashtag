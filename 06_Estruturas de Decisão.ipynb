{
 "cells": [
  {
   "cell_type": "markdown",
   "metadata": {},
   "source": [
    "# Exercícios"
   ]
  },
  {
   "cell_type": "markdown",
   "metadata": {},
   "source": [
    "## 1. Criando um mini sistema de controle de estoque\n",
    "\n",
    "- Crie um sistema para ser usado pelo time de controle de estoque de um centro de distribuição.\n",
    "- Imagine que ao fim de todo dia, o time conta quantas unidades de produto existem no estoque. Se tivermos um estoque abaixo do estoque permitido para aquela categoria do produto, o time deve ser avisado (print) para fazer um novo pedido daquele produto.\n",
    "- Cada categoria de produto tem um estoque mínimo diferente, segundo a regra abaixo:\n",
    "\n",
    "- alimentos -> Estoque mínimo: 50\n",
    "- bebidas -> Estoque mínimo: 75\n",
    "- limpeza -> Estoque mínimo: 30\n",
    "\n",
    "Para isso vamos criar um programa que pede 3 inputs do usuário: nome do produto, categoria e quantidade atual em estoque.\n",
    "\n",
    "Se o produto tiver abaixo do estoque mínimo da categoria dele, o programa deve printar a mensagem \"Solicitar {produto} à equipe de compras, temos apenas {unidades} em estoque\"\n",
    "\n",
    "Exemplo: Se o usuário preenche os inputs com: bebidas, dolly, 90, o programa não deve exibir nenhuma mensagem.<br>\n",
    "Agora, se o usuário preenche os inputs com: bebidas, guaraná, 60, o programa deve exibir a mensagem \"Solicitar guaraná à equipe de compras, temos apenas 60 unidades em estoque.\n",
    "\n",
    "Obs: lembre de usar o int() para transformar o número inserido pelo usuário no input de string para int.<br>\n",
    "Obs2: Caso o usuário não preencha alguma das 3 informações, o programa deve exibir uma mensagem para avisá-lo de preencher corretamente."
   ]
  },
  {
   "cell_type": "code",
   "execution_count": 15,
   "metadata": {},
   "outputs": [
    {
     "name": "stdout",
     "output_type": "stream",
     "text": [
      "\n",
      "[1] - Alimento\n",
      "[2] - Bebida\n",
      "[3] - Limpeza\n",
      "\n",
      "Solicitar coa à equipe de compras, temos apenas 20 em estoque\n"
     ]
    }
   ],
   "source": [
    "alimento_min = 50\n",
    "bebida_min = 75\n",
    "limpeza_min = 30\n",
    "\n",
    "produto = str(input('Digite o nome do produto: '))\n",
    "print('\\n[1] - Alimento\\n[2] - Bebida\\n[3] - Limpeza\\n')\n",
    "categoria = input('Escolha a categoria do produto: ')\n",
    "unidades = input('Digite a quantidade atual em estoque: ')\n",
    "\n",
    "if produto and categoria and unidades:\n",
    "    categoria = int(categoria)\n",
    "    unidades = int(unidades)\n",
    "    if (categoria == 1 and unidades < alimento_min) or (categoria == 2 and unidades < bebida_min) or (categoria == 3 and unidades < limpeza_min):\n",
    "        print(f'Solicitar {produto} à equipe de compras, temos apenas {unidades} em estoque')\n",
    "else:\n",
    "    print('Você deve preencher as informações corretamente!')"
   ]
  }
 ],
 "metadata": {
  "kernelspec": {
   "display_name": "Python 3",
   "language": "python",
   "name": "python3"
  },
  "language_info": {
   "codemirror_mode": {
    "name": "ipython",
    "version": 3
   },
   "file_extension": ".py",
   "mimetype": "text/x-python",
   "name": "python",
   "nbconvert_exporter": "python",
   "pygments_lexer": "ipython3",
   "version": "3.11.5"
  }
 },
 "nbformat": 4,
 "nbformat_minor": 4
}
