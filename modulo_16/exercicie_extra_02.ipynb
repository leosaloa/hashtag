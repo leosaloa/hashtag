{
 "cells": [
  {
   "cell_type": "markdown",
   "metadata": {},
   "source": [
    "# Exercícios Python"
   ]
  },
  {
   "cell_type": "markdown",
   "metadata": {},
   "source": [
    "### Sua empresa resolveu pagar uma bonificação de R$1.000 para todos os funcionários com mais de 20 anos de casa. Quanto vai custar a ação de bonificação para a sua empresa?"
   ]
  },
  {
   "cell_type": "code",
   "execution_count": null,
   "metadata": {},
   "outputs": [
    {
     "name": "stdout",
     "output_type": "stream",
     "text": [
      "Vai custar R$ 6000\n"
     ]
    }
   ],
   "source": [
    "anos_casa_funcionarios = [10, 15, 20, 25, 30, 47, 2, 5, 5, 6, 18, 32, 10, 1, 1, 2, 3, 3, 2, 1, 10, 40, 21, 10, 1, 2, 5, 7, 7, 6, 9, 19]\n",
    "bonus = 0\n",
    "premio = 1000\n",
    "\n",
    "for ano in anos_casa_funcionarios:\n",
    "    if ano > 20:\n",
    "        bonus += premio\n",
    "print(f'Vai custar R$ {bonus:.2f}')"
   ]
  },
  {
   "cell_type": "markdown",
   "metadata": {},
   "source": [
    "### Desenvolva um programa que armazene quatro notas em uma lista e que apresente: a média final, a maior nota e a menor nota\n"
   ]
  },
  {
   "cell_type": "code",
   "execution_count": null,
   "metadata": {},
   "outputs": [
    {
     "name": "stdout",
     "output_type": "stream",
     "text": [
      "Valor invalido para o calculo\n",
      "Média 4.0\n",
      "Maior nota:10\n",
      "Menor nota:1\n",
      "[10, 5, 1]\n"
     ]
    }
   ],
   "source": [
    "notas = []\n",
    "\n",
    "for i in range(4):\n",
    "    try:\n",
    "        entrada = int(input('Digite a nota: '))\n",
    "    except:\n",
    "        print('Valor invalido para o calculo')\n",
    "        continue\n",
    "    notas.append(entrada)\n",
    "\n",
    "print(f'Média {sum(notas) / (i + 1)}')\n",
    "print(f'Maior nota:{max(notas)}')\n",
    "print(f'Menor nota:{min(notas)}')"
   ]
  },
  {
   "cell_type": "markdown",
   "metadata": {},
   "source": [
    "### Desenvolva um programa que armazene quatro notas em uma lista e que apresente a média final. Caso a média seja igual ou superior a 7, apresentar a mensagem \"APROVADO\", caso contrário, armazenar a nota da prova final e recalcular a média (nova média = (antiga média + prova final) / 2). Caso a nova média seja igual superior a 5, apresentar a mensagem \"APROVADO\", caso contrário, apresentar a mensagem \"REPROVADO\""
   ]
  },
  {
   "cell_type": "code",
   "execution_count": null,
   "metadata": {},
   "outputs": [
    {
     "name": "stdout",
     "output_type": "stream",
     "text": [
      "Valor invalido para o calculo\n",
      "Aprovado\n"
     ]
    }
   ],
   "source": [
    "notas = []\n",
    "\n",
    "for i in range(4):\n",
    "    try:\n",
    "        entrada = int(input('Digite a nota: '))\n",
    "    except ValueError:\n",
    "        print('Nota da prova invalido para o calculo')\n",
    "        continue\n",
    "    notas.append(entrada)\n",
    "\n",
    "media = sum(notas) / (i + 1)\n",
    "if media >= 7:\n",
    "    print('Aprovado!')\n",
    "else:\n",
    "    try:\n",
    "        nota_final = int(input('Digite a nota da prova final: '))\n",
    "    except ValueError:\n",
    "        print('Nota da prova final invalido para o calculo')\n",
    "    nova_media = (media + nota_final) / 2\n",
    "    if nova_media >= 5:\n",
    "        print('Aprovado')\n",
    "    else:\n",
    "        print('Reprovado!')"
   ]
  },
  {
   "cell_type": "markdown",
   "metadata": {},
   "source": [
    "### Desenvolva um programa que pergunte para o usuário o nome completo, cpf, endereço e duração do contrato e personalize todo o texto do contrato de acordo com as informações dadas.\n"
   ]
  },
  {
   "cell_type": "code",
   "execution_count": 40,
   "metadata": {},
   "outputs": [],
   "source": [
    "def texto_original():\n",
    "    return \"\"\"\n",
    "    CONTRATO DE PRESTAÇÃO DE SERVIÇOS PROFISSIONAIS\n",
    "\n",
    "            Pelo presente instrumento particular de Contrato de Prestação de Serviços Contábeis, de um lado NOME_CONTRATANTE inscrita no CPF, \n",
    "            sob nº CPF_CONTRATANTE,doravante denominada CONTRATANTE, residente e domiciliado(a)  à RUA_CONTRATANTE, Cidade CIDADE_CONTRATANTE, Estado ESTADO_CONTRATANTE, e o Contabilista Fulano, \n",
    "            com escritório à Qualquer Lugar, Cidade Rio de Janeiro Estado RJ , inscrito no CNPJ Nº 22222222000100, doravante CONTRATADO(A), mediante as cláusulas e condições seguintes, \n",
    "            tem justo e “Contratado” o que se segue:\n",
    "\n",
    "    CLAUSULA PRIMEIRA - A contratante neste ato, contrata os serviços profissionais do contratado(a) nas seguintes àreas:\n",
    "            \n",
    "    1. Escrituração Contábil.\n",
    "    1.1 - Classificação da contabilidade de acordo com  normas e princípios contábeis vigentes;\n",
    "    1.2 - Emissão de Balancetes:\n",
    "    1.3 - Elaboração de Balanço anual e Demonstrativo de Resultado.\n",
    "            \n",
    "    E por estarem de comum acordo, assinam o presente instrumento em duas vias, de igual teor e forma, na presença das testemunhas abaixo.\n",
    "\n",
    "\n",
    "    DIA_DATA/MES_DATA/ANO_DATA.\n",
    "\n",
    "\n",
    "    _________________________________                      __________________________\n",
    "        Contratante - NOME_CONTRATANTE                                     Contratado(a)\n",
    "\n",
    "\n",
    "    \"\"\""
   ]
  },
  {
   "cell_type": "code",
   "execution_count": 42,
   "metadata": {},
   "outputs": [
    {
     "name": "stdout",
     "output_type": "stream",
     "text": [
      "\n",
      "    CONTRATO DE PRESTAÇÃO DE SERVIÇOS PROFISSIONAIS\n",
      "\n",
      "            Pelo presente instrumento particular de Contrato de Prestação de Serviços Contábeis, de um lado paloma silveira inscrita no CPF, \n",
      "            sob nº 111.444.554-00,doravante denominada CONTRATANTE, residente e domiciliado(a)  à rua edson neris 236, Cidade sao paulo, Estado sp, e o Contabilista Fulano, \n",
      "            com escritório à Qualquer Lugar, Cidade Rio de Janeiro Estado RJ , inscrito no CNPJ Nº 22222222000100, doravante CONTRATADO(A), mediante as cláusulas e condições seguintes, \n",
      "            tem justo e “Contratado” o que se segue:\n",
      "\n",
      "    CLAUSULA PRIMEIRA - A contratante neste ato, contrata os serviços profissionais do contratado(a) nas seguintes àreas:\n",
      "            \n",
      "    1. Escrituração Contábil.\n",
      "    1.1 - Classificação da contabilidade de acordo com  normas e princípios contábeis vigentes;\n",
      "    1.2 - Emissão de Balancetes:\n",
      "    1.3 - Elaboração de Balanço anual e Demonstrativo de Resultado.\n",
      "            \n",
      "    E por estarem de comum acordo, assinam o presente instrumento em duas vias, de igual teor e forma, na presença das testemunhas abaixo.\n",
      "\n",
      "\n",
      "    07/06/2025.\n",
      "\n",
      "\n",
      "    _________________________________                      __________________________\n",
      "        Contratante - paloma silveira                                     Contratado(a)\n",
      "\n",
      "\n",
      "    \n"
     ]
    }
   ],
   "source": [
    "texto_contrato_original = texto_original()\n",
    "nome = input('Digite seu nome completo: ')\n",
    "cpf = input('Digite seu CPF: ')\n",
    "rua = input('Digite a rua e numero: ')\n",
    "cidade = input('Digite a cidade: ')\n",
    "estado = input('Digite o estado: ')\n",
    "data = input('Digite a data (DD/MM/AAAA) : ')\n",
    "\n",
    "texto_contrato = texto_contrato_original.replace('NOME_CONTRATANTE', nome).replace('CPF_CONTRATANTE', cpf).replace('RUA_CONTRATANTE', rua).replace('CIDADE_CONTRATANTE', cidade).replace('ESTADO_CONTRATANTE', estado).replace('DIA_DATA/MES_DATA/ANO_DATA', data)\n",
    "\n",
    "\n",
    "print(texto_contrato)\n"
   ]
  },
  {
   "cell_type": "markdown",
   "metadata": {},
   "source": [
    "### Crie um programa que converta a temperatura de celsius para Faremheit\n",
    "    - Agora adapte o programa para ele funcionar para uma lista de temperaturas\n",
    "    - Agora adapte o programa para ele conseguir fazer a conversão tanto de C para F quanto de F para C de acordo com a escolha do usuário."
   ]
  },
  {
   "cell_type": "code",
   "execution_count": 2,
   "metadata": {},
   "outputs": [
    {
     "name": "stdout",
     "output_type": "stream",
     "text": [
      "Graus Faremheit: 68 ºF\n"
     ]
    }
   ],
   "source": [
    "graus = int(input('Digite o grau em Celsius: '))\n",
    "\n",
    "def converter_para_faremheit():\n",
    "    faremheit = int((graus * 9/5) + 32)\n",
    "    return faremheit\n",
    "\n",
    "def converter_para_graus():\n",
    "    celsius = int((graus - 32) * 5/9)\n",
    "    return celsius\n",
    "\n",
    "\n",
    "print(f'Graus Faremheit: {converter_para_faremheit()} ºF')\n",
    "\n",
    "\n"
   ]
  },
  {
   "cell_type": "code",
   "execution_count": null,
   "metadata": {},
   "outputs": [
    {
     "name": "stdout",
     "output_type": "stream",
     "text": [
      "Graus Faremheit: 68 ºF\n",
      "Graus Faremheit: 140 ºF\n"
     ]
    }
   ],
   "source": [
    "\n",
    "\n",
    "while True:  \n",
    "    graus = input('Digite o grau em Celsius: ')\n",
    "    if graus == '':\n",
    "        break\n",
    "    graus = int(graus)\n",
    "    print(f'Graus Faremheit: {converter_para_faremheit()} ºF')"
   ]
  },
  {
   "cell_type": "code",
   "execution_count": null,
   "metadata": {},
   "outputs": [],
   "source": [
    "while True:\n",
    "    converter = input('Para qual temperatura quer converter? Celsius[C]/Faremheit[F] ').upper()\n",
    "    graus = input('Digite o grau em Celsius: ')\n",
    "    if graus == '' or converter == '':\n",
    "        break\n",
    "    graus = int(graus)\n",
    "    if converter == 'F':        \n",
    "        print(f'Graus Faremheit: {converter_para_faremheit()} ºF')\n",
    "    else:\n",
    "        print(f'Graus Faremheit: {converter_para_graus()} ºC')"
   ]
  },
  {
   "cell_type": "markdown",
   "metadata": {},
   "source": [
    "### Analisador de Telefone\n",
    "\n",
    "- Crie um programa que receba um telefone e verifique se ele é um telefone real brasileiro. Seu programa deve conseguir tratar espaços em branco, parênteses, existência de um 9º dígito no número ou não, existência de DDD ou não e deve obrigar o usuário a inserir o código do País (+55)\n",
    "\n",
    "Válidos:<br>\n",
    "\"+55 21 9799999999\"<br>\n",
    "\"+55 21 799999999 \"<br>\n",
    "\"+55 (21)79999-9999\"<br>\n",
    "\"+5521799999999\"<br>"
   ]
  },
  {
   "cell_type": "code",
   "execution_count": null,
   "metadata": {},
   "outputs": [
    {
     "name": "stdout",
     "output_type": "stream",
     "text": [
      "Telefone correto: +5511949924243\n"
     ]
    }
   ],
   "source": [
    "telefone = input('Digite o telefone no formato +55XX999999999: ')\n",
    "\n",
    "telefone = telefone.replace(' ', '').replace('(', '').replace(')', '').replace('-', '')\n",
    "\n",
    "if telefone[:3] != '+55':\n",
    "    print('Telefone não é do Brasil!')\n",
    "else:\n",
    "    if len(telefone) != 13 and len(telefone) != 14:\n",
    "        print('O telefone não é  do Brasil ou esta incorreto')\n",
    "    else:\n",
    "        print(f'Telefone valido: {telefone}')\n"
   ]
  },
  {
   "cell_type": "markdown",
   "metadata": {},
   "source": [
    "### Analisador de URL\n",
    "    - Seu programa deve pedir um link/URL para o usuário, como por exemplo: https://www.hashtagtreinamentos.com/blog\n",
    "    - Ele deve analisar essa URL dizendo:\n",
    "        - Domínio: hashtagtreinamentos.com\n",
    "        - Protocolo: HTTPS (tudo que vem antes de começar o endereço da URL, no caso antes do :)\n",
    "        - Caminho: /blog (tudo que vem depois do domínio, a partir da primeira / até antes dos parâmetros de busca)\n",
    "        - Parâmetros de busca: (Tudo que vem depois do ? e são separados entre si por um &. Os links podem ter isso ou não)\n",
    "\n",
    "Exemplos de URL:\n",
    "\n",
    "https://www.hashtagtreinamentos.com/blog<br>\n",
    "https://lp.hashtagtreinamentos.com/inscricao-intensivao-de-python-igfb?origemurl=curso&fonte=portal<br>\n",
    "https://lp.hashtagtreinamentos.com/inscricao-intensivao-de-python-igfb?origemurl=exercicios"
   ]
  },
  {
   "cell_type": "code",
   "execution_count": null,
   "metadata": {},
   "outputs": [
    {
     "name": "stdout",
     "output_type": "stream",
     "text": [
      "Dominio: lp.hashtagtreinamentos.com\n",
      "Protocolo: https\n",
      "Caminho: /inscricao-intensivao-de-python-igfb\n",
      "Parametro de busca: ['origemurl=curso', 'fonte=portal']\n"
     ]
    }
   ],
   "source": [
    "link = input('Digite o link ou url: ')\n",
    "\n",
    "dominio = link.split('/')[2].replace('www.', '')\n",
    "protocolo = link.split(':')[0]\n",
    "caminho = link.split('.com')[1]\n",
    "caminho = caminho.split('?')[0]\n",
    "parametro = link.split('?')[1]\n",
    "parametro = parametro.split('&')\n",
    "\n",
    "print(f'Dominio: {dominio}')\n",
    "print(f'Protocolo: {protocolo}')\n",
    "print(f'Caminho: {caminho}')\n",
    "print(f'Parametro de busca: {parametro}')\n"
   ]
  },
  {
   "cell_type": "markdown",
   "metadata": {},
   "source": [
    "### Crie um programa que dado o e-mail de um usuário, valide se aquele e-mail é válido com as seguintes regras:\n",
    "    - Tem que ter .com ou .gov\n",
    "    - Tem que ter @\n",
    "    - Tem que ter mais de 5 caracteres\n",
    "    - Não pode ter espaço"
   ]
  },
  {
   "cell_type": "code",
   "execution_count": 1,
   "metadata": {},
   "outputs": [
    {
     "name": "stdout",
     "output_type": "stream",
     "text": [
      "Email incorreto!\n"
     ]
    }
   ],
   "source": [
    "email = input('Digite o email para validação: ')\n",
    "\n",
    "if '.com' in email or '.gov' in email:\n",
    "    if '@' not in email or len(email) <= 5 or ' ' in email:\n",
    "        print('Email incorreto!')\n",
    "    else:\n",
    "        print('Email correto!')\n",
    "else:\n",
    "    print('Email incorreto!')"
   ]
  },
  {
   "cell_type": "markdown",
   "metadata": {},
   "source": [
    "### ToDo List no Terminal\n",
    "\n",
    "Crie um programa para criar uma lista de tarefas para o usuário (mais futuramente no curso, aprenderemos a armazenar essas informações em um banco de dados para essa lista poder ser editada e armazenada)\n",
    "\n",
    "Seu programa deve pedir as tarefas que o usuário tem que fazer em um dia e, a cada inserção de uma nova tarefa, dizer que a tarefa foi adicionada a lista de tarefas. Quando o usuário digitar apenas enter no seu input (sem inserir nenhuma tarefa, seu programa deve printar a quantidade de tarefas para o dia e a lista de tarefas completa)"
   ]
  },
  {
   "cell_type": "code",
   "execution_count": null,
   "metadata": {},
   "outputs": [
    {
     "name": "stdout",
     "output_type": "stream",
     "text": [
      "Tarefa kl adicionado na lista.\n",
      "Tarefa o adicionado na lista.\n",
      "Tarefa mo adicionado na lista.\n",
      "Tarefa nu adicionado na lista.\n",
      "Tarefa bu adicionado na lista.\n",
      "Quantidade de tarefas: 5\n",
      "Tarefas\n",
      "kl\n",
      "o\n",
      "mo\n",
      "nu\n",
      "bu\n"
     ]
    }
   ],
   "source": [
    "lista_tarefas = []\n",
    "\n",
    "while True:\n",
    "    tarefa = input('Digite uma tarefa (ou Enter para sair): ')\n",
    "    if tarefa == '':\n",
    "        break\n",
    "    lista_tarefas.append(tarefa)\n",
    "    print(f'Tarefa {tarefa} adicionado na lista.')\n",
    "\n",
    "print(f'Quantidade de tarefas: {len(lista_tarefas)}')\n",
    "print('Tarefas')\n",
    "for t in lista_tarefas:\n",
    "    print(t)"
   ]
  },
  {
   "cell_type": "markdown",
   "metadata": {},
   "source": [
    "### Conversor de Moedas\n",
    "\n",
    "- Parte 1: Crie um conversor de moedas que pergunte para o usuário qual moeda ele quer converter e para qual moeda destino ele quer converter. Caso alguma das moedas não estejam na lista de conversão, o usuário deve ser informado que essa conversão não é possível. Sendo possível a conversão, o seu conversor de moedas deve em seguida pedir o valor da moeda de origem que ele quer converter para a moeda de destino, fazer a conversão e exibir para o usuário o valor convertido.\n",
    "- Parte 2: Adapte o seu código (crie uma cópia para manter os 2 códigos prontos) para o usuário não precisar dizer qual a moeda original, mas que permita inserir um valor para fazer a conversão com o indicativo da moeda, ex: R$50, US$20 e o sistema fazer a conversão automaticamente."
   ]
  },
  {
   "cell_type": "code",
   "execution_count": 24,
   "metadata": {},
   "outputs": [],
   "source": [
    "dic_conversoes = {\n",
    "    \"R$-US$\": 0.194,\n",
    "    \"US$-R$\": 5.15,\n",
    "    \"R$-BTC\":  0.000002857,\n",
    "    \"BTC-R$\": 350000,\n",
    "    \"BTC-US$\": 67961.16,\n",
    "    \"US$-BTC\": 0.000014714\n",
    "}"
   ]
  },
  {
   "cell_type": "code",
   "execution_count": null,
   "metadata": {},
   "outputs": [
    {
     "name": "stdout",
     "output_type": "stream",
     "text": [
      "Escolha uma opção: [1] - R$-US$\n",
      "Escolha uma opção: [2] - US$-R$\n",
      "Escolha uma opção: [3] - R$-BTC\n",
      "Escolha uma opção: [4] - BTC-R$\n",
      "Escolha uma opção: [5] - BTC-US$\n",
      "Escolha uma opção: [6] - US$-BTC\n",
      "Conversão: R$ 1.0 = BTC 0.00000286\n"
     ]
    }
   ],
   "source": [
    "valida = []\n",
    "\n",
    "for i, m in enumerate(dic_conversoes):\n",
    "    i += 1\n",
    "    print(f'Escolha uma opção: [{i}] - {m}')\n",
    "    valida.append(i)\n",
    "    \n",
    "escolha_moeda = int(input('Digite a moeda que dejesa converter: '))\n",
    "if escolha_moeda not in valida:\n",
    "    print(f'A conversão não é possivel.')\n",
    "else:\n",
    "    moeda = float(input('Digite o valor para converter: '))\n",
    "    for index, valor in enumerate(dic_conversoes):\n",
    "        if index + 1 == escolha_moeda:\n",
    "            conversao = moeda * dic_conversoes[valor]\n",
    "            sigla_conversao = valor.split('-')\n",
    "            break\n",
    "    \n",
    "    print(f'Conversão: {sigla_conversao[0]} {moeda} = {sigla_conversao[1]} {conversao:.9f}')\n",
    "\n",
    "\n"
   ]
  },
  {
   "cell_type": "code",
   "execution_count": null,
   "metadata": {},
   "outputs": [],
   "source": [
    "# Parte 2\n",
    "# seu código aqui"
   ]
  },
  {
   "cell_type": "markdown",
   "metadata": {},
   "source": [
    "### Você está analisando a conta de energia de um pequeno escritório e precisa saber:\n",
    "1. Qual o valor total da conta de energia em cada mês do ano\n",
    "2. Qual o valor total da conta de energia no ano\n",
    "\n",
    "Considere as listas dadas como os 12 meses do ano, tanto para bandeiras quanto para consumo. O valor da conta é dado por: consumo * multiplicador_bandeira * preco_kwh"
   ]
  },
  {
   "cell_type": "code",
   "execution_count": null,
   "metadata": {},
   "outputs": [],
   "source": [
    "bandeiras_tarifarias = [\"vermelha\", \"vermelha\", \"amarela\", \"amarela\", \"verde\", \"verde\", \"verde\", \"verde\", \"verde\", \"amarela\", \"amarela\", \"amarela\"]\n",
    "consumo_kwh = [400, 350, 325, 350, 200, 220, 250, 290, 360, 290, 300, 300]\n",
    "preco_kwh = 1.3\n",
    "\n",
    "multiplicador = {\"vermelha\": 2, \"amarela\": 1.3, \"verde\": 1}"
   ]
  },
  {
   "cell_type": "code",
   "execution_count": 84,
   "metadata": {},
   "outputs": [
    {
     "name": "stdout",
     "output_type": "stream",
     "text": [
      "[1040.0, 910.0, 549.25, 591.5, 260.0, 286.0, 325.0, 377.0, 468.0, 490.1, 507.0, 507.0]\n",
      "6310.85\n"
     ]
    }
   ],
   "source": [
    "valor_mes = []\n",
    "\n",
    "\n",
    "for i, bandeira in enumerate(bandeiras_tarifarias):\n",
    "    preco = consumo_kwh[i] * multiplicador[bandeira] * preco_kwh\n",
    "    valor_mes.append(preco)\n",
    "\n",
    "print(valor_mes)\n",
    "print(sum(valor_mes))\n",
    "\n",
    "    "
   ]
  },
  {
   "cell_type": "markdown",
   "metadata": {},
   "source": [
    "### Você recebeu uma lista de alunos da Arroba Treinamentos e precisa descobrir quantos alunos e quais aluno estão devendo ainda algum pagamento do curso. O curso custa 2.000 reais e os pagamentos dos alunos são representados por uma lista de valores já pagos no dicionário de alunos\n"
   ]
  },
  {
   "cell_type": "code",
   "execution_count": null,
   "metadata": {},
   "outputs": [],
   "source": [
    "pagamentos_alunos = {\n",
    "    \"André\": [2000],\n",
    "    \"Fulano\": [1000, 1000],\n",
    "    \"Ciclano\": [500, 500],\n",
    "    \"Beltrano\": [100], \n",
    "    \"João\": [100, 100, 100, 100, 100, 100, 100, 100, 100, 100, 100],\n",
    "    \"Amanda\": [200, 300, 250, 250, 500, 400, 100],\n",
    "    \"Lira\": [1000],\n",
    "    \"Alon\": [10]\n",
    "}\n"
   ]
  },
  {
   "cell_type": "code",
   "execution_count": 92,
   "metadata": {},
   "outputs": [
    {
     "name": "stdout",
     "output_type": "stream",
     "text": [
      "O aluno Ciclano pagou R$ 1000 e esta devendo R$ 1000\n",
      "O aluno Beltrano pagou R$ 100 e esta devendo R$ 1900\n",
      "O aluno João pagou R$ 1100 e esta devendo R$ 900\n",
      "O aluno Lira pagou R$ 1000 e esta devendo R$ 1000\n",
      "O aluno Alon pagou R$ 10 e esta devendo R$ 1990\n",
      "Temos o total de 5 alunos devendo\n"
     ]
    }
   ],
   "source": [
    "valor_mensalidade = 2000\n",
    "cont = 0\n",
    "\n",
    "for aluno in pagamentos_alunos:\n",
    "    valor_aluno = sum(pagamentos_alunos[aluno])\n",
    "    if valor_aluno < valor_mensalidade:\n",
    "        cont += 1\n",
    "        print(f'O aluno {aluno} pagou R$ {valor_aluno} e esta devendo R$ {valor_mensalidade - valor_aluno}')\n",
    "print(f'Temos o total de {cont} alunos devendo')"
   ]
  },
  {
   "cell_type": "markdown",
   "metadata": {},
   "source": [
    "### Password Checker\n",
    "- Pessa para o usuário um input com a senha e um input com a confirmação de senha (aprenderemos no módulo de criação de telas com Python a fazer isso em um sistema bonito, mas para esse exercício faremos com inputs isso)\n",
    "- Para validar a senha, verifique que:\n",
    "    - A senha e confirmação são iguais\n",
    "    - A senha possua mais de 8 caracteres\n",
    "    - A senha tenha letras e números"
   ]
  },
  {
   "cell_type": "code",
   "execution_count": null,
   "metadata": {},
   "outputs": [
    {
     "name": "stdout",
     "output_type": "stream",
     "text": [
      "Senha salva com sucesso\n"
     ]
    }
   ],
   "source": [
    "senha = input('Digite a senha: ')\n",
    "confirma_senha = input('Digite a confirmação da senha: ')\n",
    "\n",
    "if senha != confirma_senha:\n",
    "    print('As senhas são diferentes!')\n",
    "else:\n",
    "    if len(senha) < 8:\n",
    "        print('A senha precisa ter mais de 8 caracteres!')\n",
    "    elif senha.isnumeric() or senha.isalpha():\n",
    "        print('Senha precisa ter letras e números!')\n",
    "    else:\n",
    "        print('Senha salva com sucesso')"
   ]
  },
  {
   "cell_type": "markdown",
   "metadata": {},
   "source": [
    "### Você precisa criar a lógica de um sistema de load balance/redirecionamento automático. Seu programa deve receber um input que representa quantas requisições um sistema vai receber. Para cada requisição, seu sistema deve decidir em qual destino atribuir a requisição, destino A, B ou C. A regra de distribuição é: a primeira requisição é atribuída ao destino A, a segunda ao B, a terceira ao C, a quarta ao A, a quinta ao B, a sexta ao C, a sétima ao A, a oitava ao B, a nona ao C… e assim vai até o total de requisições. Ao final do programa, você deve calcular quais requisições foram para cada destino e quantas são. Ex: se o sistema deveria receber 80 requisições, no final seu código tem q dizer: destino A recebeu 27 requisições, destino B recebeu 27 requisições e destino C recebeu 26 requisicoes e a lista de requisições de cada destino: listaA = [1, 4, 7, 10, 13...], listaB = [2, 5, 8, 11, 14, ...], listaC = [3, 6, 9, 12, 15, 18, 21, ...].\n"
   ]
  },
  {
   "cell_type": "code",
   "execution_count": 6,
   "metadata": {},
   "outputs": [
    {
     "name": "stdout",
     "output_type": "stream",
     "text": [
      "A lista A tem 4\n",
      "A lista B tem 3\n",
      "A lista C tem 3\n",
      "lista A: [0, 3, 6, 9]\n",
      "lista B: [1, 4, 7]\n",
      "lista C: [2, 5, 8]\n"
     ]
    }
   ],
   "source": [
    "requisicoes = int(input('Digite a quantidade de requisições: '))\n",
    "\n",
    "listaA = []\n",
    "listaB = []\n",
    "listaC = []\n",
    "\n",
    "for i in range(requisicoes):\n",
    "    if i % 3 == 0:\n",
    "        listaA.append(i)\n",
    "    elif i % 3 == 1:\n",
    "        listaB.append(i)\n",
    "    else:\n",
    "        listaC.append(i)\n",
    "\n",
    "\n",
    "print(f'A lista A tem {len(listaA)}')\n",
    "print(f'A lista B tem {len(listaB)}')\n",
    "print(f'A lista C tem {len(listaC)}')\n",
    "print(f'lista A: {listaA}')\n",
    "print(f'lista B: {listaB}')\n",
    "print(f'lista C: {listaC}')\n"
   ]
  },
  {
   "cell_type": "markdown",
   "metadata": {},
   "source": [
    "### ChatBot de Recomendações de Viagens\n",
    "- Você trabalha em uma agência de viagens e precisa criar um chatbot para os seus clientes. Esse chatbot deve pedir para o usuario escolher um mês de viagem. Em seguida, seu chatbot deve perguntar para qual lugar o usuário deseja viajar. Caso o local escolhido pelo usuário esteja na lista de bons lugares para viajar naquele mês, o seu chatbot deve dizer que é um ótimo lugar para viajar nesse mês. Caso o local não esteja na lista de bons locais daquele mês, seu chatbot deve:\n",
    "    1. Dizer para ele quais lugares são bons para viajar nesse mês\n",
    "    2. Verificar no resto dos meses se o local que o usuário quer viajar está em algum outro mês. Se tiver, seu programa deve dizer para ele qual o melhor mês para viajar para o local desejado pelo cliente."
   ]
  },
  {
   "cell_type": "code",
   "execution_count": null,
   "metadata": {},
   "outputs": [
    {
     "name": "stdout",
     "output_type": "stream",
     "text": [
      "Excelente escolha! \n",
      "O local escolhido é uma ótima opção.\n"
     ]
    }
   ],
   "source": [
    "viagens_mensais = {\n",
    "    \"jan\": [\"Tailândia\", \"Brasil\", \"Antártica\", \"África do Sul\", \"Argentina\"],\n",
    "    \"fev\": [\"Tailândia\", \"Brasil\", \"Argentina\", \"Uruguai\", \"África do Sul\"],\n",
    "    \"mar\": [\"Brasil\", \"Marrocos\", \"EUA\", \"Egito\", \"Dubai\"],\n",
    "    \"abr\": [\"Brasil\", \"Marrocos\", \"Egito\", \"Dubai\", \"Equador\"],\n",
    "    \"mai\": [\"Brasil\", \"EUA\", \"Itália\", \"França\", \"Inglaterra\"],\n",
    "    \"jun\": [\"Brasil\", \"Itália\", \"França\", \"Grécia\", \"Turquia\"],\n",
    "    \"jul\": [\"Brasil\", \"Itália\", \"França\", \"Grécia\", \"Turquia\"],\n",
    "    \"ago\": [\"Brasil\", \"Itália\", \"França\", \"Grécia\", \"Turquia\"],\n",
    "    \"set\": [\"Brasil\", \"Croácia\", \"Grécia\", \"México\", \"Alemanha\"],\n",
    "    \"out\": [\"Brasil\", \"Alemanha\", \"Japão\", \"Chile\", \"Indonésia\"],\n",
    "    \"nov\": [\"Brasil\", \"México\", \"Costa Rica\", \"Barbados\", \"Colômbia\"],\n",
    "    \"dez\": [\"Tailândia\", \"México\", \"Costa Rica\", \"Barbados\", \"Colômbia\"]\n",
    "}\n",
    "\n",
    "# digitar mes de viagem\n",
    "# digitar local de viagem\n",
    "# se o mes for um bom lugar para viajar:\n",
    "    # print(f'Excelente escolha! \\nO local escolhido é uma ótima opção.)\n",
    "# se nao estiver na lista\n",
    "    # print(f'Os melhores locais são {melhores_locais})\n",
    "# verificar se esta em outros meses e se tiver:\n",
    "    # print(f'O melhor mês para viajar são {locais_mes}')\n",
    "\n",
    "entrada_mes = input('Digite o mês de viagem: ')\n",
    "lista_locais = viagens_mensais[entrada_mes]\n",
    "entrada_local = input('Digite o local que deseja ir: ')\n",
    "\n",
    "if entrada_local in lista_locais:\n",
    "    print(f'Excelente escolha! \\nO local escolhido é uma ótima opção.')\n",
    "else:\n",
    "    texto_locais = ', '.join(lista_locais)\n",
    "    print(f'Os melhores locais do mês {entrada_mes} são: {texto_locais}')\n",
    "    alternativa_mes = []\n",
    "    for mes in viagens_mensais:\n",
    "        if entrada_local in viagens_mensais[mes]:\n",
    "            alternativa_mes.append(mes)\n",
    "    texto_mes = ', '.join(alternativa_mes)\n",
    "    print(f'Os meses {texto_mes}, são os melhores locais para ir em {entrada_local}')\n"
   ]
  },
  {
   "cell_type": "markdown",
   "metadata": {},
   "source": [
    "### Password Manager com dicionário sendo o Banco de Dados\n",
    "\n",
    "- Seu desafio é criar um gerenciador de senhas (usando um dicionário python como banco de dados, mais para frente no curso no modulo de banco de dados você será capaz de armazenar essas senhas em um banco de dados de forma definitiva e mais protegida)\n",
    "    - Seu programa deve perguntar para o usuário se ele quer cadastrar uma senha nova ou pegar uma senha existente. Independente da operação ele deve usar uma senha mestre: \"uh&g7fnsd8\" para aprovar qualquer consulta/edição no sistema. Se o usuário quiser adicionar uma senha, deve pedir qual o nome do sistema de onde essa senha faz parte, qual o login e qual a senha a ser cadastrada. Se for para consultar, seu programa deve exibir os nomes dos sistemas disponíveis e o usuário pode escolher qual senha quer pedir e seu programa deve dar para ela a resposta de login e senha. Se quiser que as suas senhas cadastradas possam ser usadas para consulta, coloque tudo em um loop infinito e dê algum comando para o usuário conseguir finalizar o processo"
   ]
  },
  {
   "cell_type": "code",
   "execution_count": 31,
   "metadata": {},
   "outputs": [
    {
     "name": "stdout",
     "output_type": "stream",
     "text": [
      "Escolha uma opção:\n",
      "[1] Consultar\n",
      "[2] Cadastrar\n",
      "[0] Sair\n",
      "Você saiu do programa!\n"
     ]
    }
   ],
   "source": [
    "gerenciador_senhas = {\n",
    "    \"Gmail\": (\"lira@emailfalso.com\", \"minhasenha123\"),\n",
    "    \"Github\": (\"pythonimpressionador\", \"senhadoida\"),\n",
    "    \"Cartão de Crédito\": (\"NumeroFalsodoCartao\", \"123456\"),\n",
    "    \"Portal Hashtag\": (\"usuario@gmail.com\", \"123456\")\n",
    "}\n",
    "\n",
    "# Gerenciador de senha\n",
    "# Cadastrar ou pegar uma senha existente\n",
    "# Usar a senha_mestre(uh8g7fnsd8) para acessar o sistema\n",
    "# Se o usuario for cadastrar uma senha, precisa perguntar o\n",
    "#     sistema, login e senha que vão ser cadastrados\n",
    "# Para consultar o programa deve mostrar os sistemas disponiveis\n",
    "#     e o usuario escolhe qual login e senha quer ver\n",
    "\n",
    "print(f'Escolha uma opção:\\n[1] Consultar\\n[2] Cadastrar\\n[0] Sair')\n",
    "\n",
    "while True:\n",
    "    escolha_usuario = int(input('Escolha uma opção:\\n[1] Consultar\\n[2] Cadastrar \\n[0] Sair'))\n",
    "    if escolha_usuario == 0:\n",
    "        print('Você saiu do programa!')\n",
    "        break\n",
    "    else:\n",
    "        senha_mestre = input('Digite a senha mestre: ')\n",
    "        if senha_mestre != 'uh8g7fnsd8':\n",
    "            print('Senha incorreta digite novamente')\n",
    "            break\n",
    "        else:\n",
    "            escolha_sistema = input('Digite o nome do sistema: ')\n",
    "            sistemas_cadastrados = []\n",
    "            for sistema in gerenciador_senhas:\n",
    "                sistemas_cadastrados.append(sistema)\n",
    "            if escolha_usuario == 1:\n",
    "                if escolha_sistema not in sistemas_cadastrados:\n",
    "                    print(f'Sistema {escolha_sistema} não localizado')\n",
    "                    break\n",
    "                else:\n",
    "                    saida_sistema = ', '.join(gerenciador_senhas[escolha_sistema])\n",
    "                    print(f'As credenciais do sistema {escolha_sistema} são {saida_sistema}')\n",
    "                    break\n",
    "            elif escolha_usuario == 2:\n",
    "                if escolha_sistema in (sistemas_cadastrados):\n",
    "                    print(f'As credenciais do sistema {escolha_sistema} já existe')\n",
    "                    break\n",
    "                else:\n",
    "                    login_sistema = input(f'Digite o login para o sistema {escolha_sistema}: ')\n",
    "                    senha_sistema = input('Digite a senha: ')\n",
    "                    gerenciador_senhas[escolha_sistema] = (login_sistema, senha_sistema)\n",
    "                    print(f'O sistema {escolha_sistema} foi cadastrado com sucesso!')\n",
    "                    break\n",
    "            else:\n",
    "                print('Algo deu errado')\n",
    "                break                \n",
    "\n",
    "\n",
    "\n"
   ]
  },
  {
   "cell_type": "markdown",
   "metadata": {},
   "source": [
    "### Extrator de data em email\n",
    "\n",
    "- Crie um código que consiga extrair a data escrita em um email no formato DIA/MES/ANO. Essa data pode estar com diferentes quantidades de dígitos para cada informação de DIA/MES/ANO. Ex: 01/05/2024 = 1/5/24\n",
    "- Mais para frente no curso vamos aprender regex que facilita esse tipo de extração, por enquanto, para esse exercício pode considerar que apenas 1 data será incluída no email e que não será usado mais a / em outros locais do email"
   ]
  },
  {
   "cell_type": "code",
   "execution_count": 101,
   "metadata": {},
   "outputs": [],
   "source": [
    "texto_email = \"\"\"Prezados,\n",
    "Segue em anexo contrato para aprovação e assinatura até o dia 10/12/2025\n",
    "Favor se atentar ao prazo de conclusão para evitar o cancelamento do serviço.\n",
    "Att.,\n",
    "Fulano Beltrano\"\"\""
   ]
  },
  {
   "cell_type": "code",
   "execution_count": null,
   "metadata": {},
   "outputs": [
    {
     "name": "stdout",
     "output_type": "stream",
     "text": [
      "Dia - 10\n",
      "Mês - 12\n",
      "Ano - 2025\n"
     ]
    }
   ],
   "source": [
    "# Extrair data\n",
    "# Localizar dia, mes e ano\n",
    "# Usar o find para localizar o\n",
    "#     index das barras\n",
    "\n",
    "barra1 = texto_email.find('/')\n",
    "barra2 = texto_email.find('/', barra1 + 1)\n",
    "\n",
    "dia = texto_email[barra1-2:barra2-3]\n",
    "mes = texto_email[barra1+1:barra2]\n",
    "ano = texto_email[barra2+1:barra2+5]\n",
    "\n",
    "print(f'Dia - {dia}')\n",
    "print(f'Mês - {mes}')\n",
    "print(f'Ano - {ano}')"
   ]
  },
  {
   "cell_type": "markdown",
   "metadata": {},
   "source": [
    "### Extrator de contato em email\n",
    "\n",
    "- Crie um código que consiga extrair um endereço de e-mail de um texto.\n",
    "- Mais para frente no curso vamos aprender regex que facilita esse tipo de extração, por enquanto, para esse exercício pode considerar que apenas 1 email será incluída no texto e o @ não será usado em outros locais."
   ]
  },
  {
   "cell_type": "code",
   "execution_count": 115,
   "metadata": {},
   "outputs": [],
   "source": [
    "texto_email = \"\"\"Prezados,\n",
    "Favor encaminhar documentação para o email qualquercoisa@gmail.com\n",
    "Obrigado\"\"\""
   ]
  },
  {
   "cell_type": "code",
   "execution_count": 121,
   "metadata": {},
   "outputs": [
    {
     "name": "stdout",
     "output_type": "stream",
     "text": [
      "O e-mail é qualquercoisa@gmail.com\n"
     ]
    }
   ],
   "source": [
    "# Extrair email\n",
    "# localizar @\n",
    "# separar com split\n",
    "\n",
    "palavras = texto_email.split()\n",
    "\n",
    "for palavra in palavras:\n",
    "    if '@' in palavra:\n",
    "        email = palavra\n",
    "print(f'O e-mail é {email}')"
   ]
  },
  {
   "cell_type": "markdown",
   "metadata": {},
   "source": [
    "### Dado um dicionário com a temperatura em várias cidades, máximas e mínimas estimadas e máximas e mínimas reais, veja em quantas cidades a previsão do tempo acertou e em quantas errou.\n",
    "\n",
    "Considere que a previsão erra se a mínima real for menor do que a mínima estimada OU se a máxima real for maior do que a máxima estimada. Se os valores reais estiverem dentro da faixa estimada, mesmo que os valores não sejam iguais, é considerado que a previsão acertou.\n",
    "\n",
    "Ex: <br>\n",
    "Mínima Estimada: 20, Máxima Estimada: 25, Mínima Real: 21, Máxima Real: 25 -> acertou<br>\n",
    "Mínima Estimada: 20, Máxima Estimada: 25, Mínima Real: 19, Máxima Real: 25 -> errou<br>\n",
    "Mínima Estimada: 20, Máxima Estimada: 25, Mínima Real: 23, Máxima Real: 24 -> acertou<br>\n",
    "Mínima Estimada: 20, Máxima Estimada: 25, Mínima Real: 19, Máxima Real: 28 -> errou<br>\n",
    "\n",
    "formato:\n",
    "(minima_estimada, maxima_estimada, minima_real, maxima_real)"
   ]
  },
  {
   "cell_type": "code",
   "execution_count": 26,
   "metadata": {},
   "outputs": [],
   "source": [
    "dic_temperaturas = {\n",
    "    \"São Paulo\": (15, 23, 16, 22),\n",
    "    \"Rio de Janeiro\": (21, 25, 20, 25),\n",
    "    \"Belo Horizonte\": (19, 22, 19, 22),\n",
    "    \"Brasília\": (23, 25, 19, 21),\n",
    "    \"Porto Alegre\": (13, 19, 14, 18),\n",
    "    \"Natal\": (25, 28, 24, 28),\n",
    "    \"Salvador\": (22, 29, 23, 30),\n",
    "    \"Manaus\": (23, 27, 23, 26),\n",
    "}"
   ]
  },
  {
   "cell_type": "code",
   "execution_count": 32,
   "metadata": {},
   "outputs": [
    {
     "name": "stdout",
     "output_type": "stream",
     "text": [
      "\n",
      "Previsão Correta!\n",
      "São Paulo:\n",
      "Real - minima 16 | maxima 22\n",
      "Estimativa - minima 15 | 23\n",
      "\n",
      "Previsão incorreta!\n",
      "Rio de Janeiro:\n",
      "Real - minima 20 | maxima 25\n",
      "Estimativa - minima 21 | 25\n",
      "\n",
      "Previsão Correta!\n",
      "Belo Horizonte:\n",
      "Real - minima 19 | maxima 22\n",
      "Estimativa - minima 19 | 22\n",
      "\n",
      "Previsão incorreta!\n",
      "Brasília:\n",
      "Real - minima 19 | maxima 21\n",
      "Estimativa - minima 23 | 25\n",
      "\n",
      "Previsão Correta!\n",
      "Porto Alegre:\n",
      "Real - minima 14 | maxima 18\n",
      "Estimativa - minima 13 | 19\n",
      "\n",
      "Previsão incorreta!\n",
      "Natal:\n",
      "Real - minima 24 | maxima 28\n",
      "Estimativa - minima 25 | 28\n",
      "\n",
      "Previsão incorreta!\n",
      "Salvador:\n",
      "Real - minima 23 | maxima 30\n",
      "Estimativa - minima 22 | 29\n",
      "\n",
      "Previsão Correta!\n",
      "Manaus:\n",
      "Real - minima 23 | maxima 26\n",
      "Estimativa - minima 23 | 27\n"
     ]
    }
   ],
   "source": [
    "# min_estimada, max_estimada\n",
    "# max_estimada, max_real\n",
    "# casos errados:\n",
    "    # min_real menor que min_estimada\n",
    "    # max_real maior que max_estimada\n",
    "\n",
    "for cidade in dic_temperaturas:\n",
    "    min_estimada = dic_temperaturas[cidade][0]\n",
    "    max_estimada = dic_temperaturas[cidade][1]\n",
    "    min_real = dic_temperaturas[cidade][2]\n",
    "    max_real = dic_temperaturas[cidade][3]\n",
    "\n",
    "    if min_real < min_estimada or max_real > max_estimada:\n",
    "        print(f'''\n",
    "Previsão incorreta!\n",
    "{cidade}:\n",
    "Real - minima {min_real} | maxima {max_real}\n",
    "Estimativa - minima {min_estimada} | {max_estimada}''')\n",
    "    else:\n",
    "        print(f'''\n",
    "Previsão Correta!\n",
    "{cidade}:\n",
    "Real - minima {min_real} | maxima {max_real}\n",
    "Estimativa - minima {min_estimada} | {max_estimada}''')"
   ]
  },
  {
   "cell_type": "markdown",
   "metadata": {},
   "source": [
    "### Você trabalha em uma montadora de veículos com 32 distribuidores e a meta da sua empresa era produzir e entregar 50.000 veículos no ano. Essa meta foi batida, com folga. Seu chefe então se questionou: se a gente tivesse 31 distribuidoras, ainda assim a gente teria batido a meta? E se a gente tivesse 30? E 29?\n",
    "\n",
    "Seu objetivo então é descobrir qual o menor número de distribuidores que teria permitido a sua empresa a ter batido essa meta de 50.000 veiculos produzidos e entregues no ano."
   ]
  },
  {
   "cell_type": "code",
   "execution_count": 4,
   "metadata": {},
   "outputs": [
    {
     "name": "stdout",
     "output_type": "stream",
     "text": [
      "Para bater a meta de 50000, precisamos de 15 montadoras que da o total de 50400 veiculos\n"
     ]
    }
   ],
   "source": [
    "entregas_distribuidores = [5000, 4000, 3900, 3900, 3800, 3200, 3000, 3000, 3000, 3000, 2950, 2950, 2900, 2900, 2900, 2900, 2900, 2900, 2900, 2900, 2900, 2900, 2900, 2900, 2900, 2900, 2900, 2900, 2900, 2900, 2900, 2900]\n",
    "\n",
    "meta = 50000\n",
    "soma = 0\n",
    "i = 0\n",
    "\n",
    "while meta > soma:\n",
    "    soma += entregas_distribuidores[i]\n",
    "    i += 1\n",
    "print(f'Para bater a meta de {meta}, precisamos de {i} montadoras que da o total de {soma} veiculos')\n"
   ]
  },
  {
   "cell_type": "markdown",
   "metadata": {},
   "source": [
    "### Um dos princípios mais importantes nas empresas é o princípio 80/20. No geral, 20% das ações que uma empresa faz geram 80% dos resultados. Isso tanto para receita, quanto para custos, etc. Você está analisando uma empresa de bebidas. Tendo isso em mente, queremos descobrir quais as linhas de custos que representam 80% do total gasto da empresa. Para isso, calcule quanto percentualmente cada custo representa do custo total da empresa e crie um ranking decrescente baseado nesse percentual "
   ]
  },
  {
   "cell_type": "code",
   "execution_count": 79,
   "metadata": {},
   "outputs": [
    {
     "name": "stdout",
     "output_type": "stream",
     "text": [
      "Custos que representam 80% do total:\n",
      "(10131.7, 'Custo Mercadorias Vendidas', 0.589370997108902)\n",
      "(2916, 'Logística', 0.1696266004293019)\n",
      "(1741, 'Despesas Comerciais', 0.10127568976248785)\n"
     ]
    }
   ],
   "source": [
    "custos = [\n",
    "    (10131.7, \"Custo Mercadorias Vendidas\"),\n",
    "    (2916, \"Logística\"),\n",
    "    (1741, \"Despesas Comerciais\"),\n",
    "    (1305, \"Despesas administrativas\"),\n",
    "    (28, \"Outros Itens\"),\n",
    "    (997, \"Juros e Resultado Financeiro\"),\n",
    "    (14, \"Participações em outros Empreendimentos\"),\n",
    "    (58, \"Impostos\")\n",
    "]\n",
    "# Descobrir quais empresas representam 80% de gastos\n",
    "# Ordenar de forma decrescente\n",
    "\n",
    "custo_total = sum(custo[0] for custo in custos)\n",
    "perc_custo = 0\n",
    "\n",
    "for i, custo in enumerate(custos):\n",
    "    valor, despesa = custos[i]\n",
    "    perc_custo = custo[0] / custo_total\n",
    "    custos[i] = (valor, despesa, perc_custo)\n",
    "\n",
    "custos.sort(key=lambda x: x[2], reverse= True)\n",
    "\n",
    "soma_perc = 0\n",
    "custo_80 = []\n",
    "\n",
    "for custo in custos:\n",
    "    soma_perc += custo[2]\n",
    "    custo_80.append(custo)\n",
    "    if soma_perc >= 0.80:\n",
    "        break\n",
    "\n",
    "print(\"Custos que representam 80% do total:\")\n",
    "for custo in custo_80:\n",
    "    print(custo)"
   ]
  },
  {
   "cell_type": "markdown",
   "metadata": {},
   "source": [
    "### Você trabalha em uma empresa que possui várias franquias. Queremos saber quais as franquias que têm maior número de funcionários e quais dessas, juntas, representam 80% dos funcionários da rede toda."
   ]
  },
  {
   "cell_type": "code",
   "execution_count": 1,
   "metadata": {},
   "outputs": [],
   "source": [
    "franquias = [\n",
    "    (25000, \"Loja A\"),\n",
    "    (10000, \"Loja B\"),\n",
    "    (500, \"Loja C\"),\n",
    "    (25000, \"Loja D\"),\n",
    "    (1200, \"Loja E\"),\n",
    "    (400, \"Loja F\"),\n",
    "    (200, \"Loja G\"),\n",
    "    (15, \"Loja H\"),\n",
    "    (200, \"Loja I\"),\n",
    "    (15, \"Loja J\"),\n",
    "    (200, \"Loja K\"),\n",
    "    (15, \"Loja L\"),\n",
    "    (200, \"Loja M\"),\n",
    "    (15, \"Loja N\"),\n",
    "]\n"
   ]
  },
  {
   "cell_type": "code",
   "execution_count": null,
   "metadata": {},
   "outputs": [],
   "source": [
    "# seu código aqui\n"
   ]
  },
  {
   "cell_type": "markdown",
   "metadata": {},
   "source": [
    "### Desafio (esse exercício é mais difícil mesmo)\n",
    "### Com o PIB de 2022 e de 2021 de cada estado brasileiro, descubra: qual o maior PIB, menor PIB, média do PIB, PIB total em cada ano e qual estado mais cresceu o PIB percentualmente e em valores absolutos de um ano pro outro"
   ]
  },
  {
   "cell_type": "code",
   "execution_count": null,
   "metadata": {},
   "outputs": [],
   "source": [
    "pib_2022 = {\n",
    "    \"Acre\": 21374,\n",
    "    \"Alagoas\": 76266,\n",
    "    \"Amapá\": 20100,\n",
    "    \"Amazonas\": 131531,\n",
    "    \"Bahia\": 352618,\n",
    "    \"Ceará\": 194885,\n",
    "    \"Distrito Federal\": 286944,\n",
    "    \"Espírito Santo\": 186337,\n",
    "    \"Goiás\": 269628,\n",
    "    \"Maranhão\": 124981,\n",
    "    \"Mato Grosso\": 233390,\n",
    "    \"Mato Grosso do Sul\": 142204,\n",
    "    \"Minas Gerais\": 857593,\n",
    "    \"Paraná\": 549973,\n",
    "    \"Paraíba\": 77470,\n",
    "    \"Pará\": 262905,\n",
    "    \"Pernambuco\": 220814,\n",
    "    \"Piauí\": 64028,\n",
    "    \"Rio de Janeiro\": 949301,\n",
    "    \"Rio Grande do Norte\": 80181,\n",
    "    \"Rio Grande do Sul\": 581284,\n",
    "    \"Rondônia\": 58170,\n",
    "    \"Roraima\": 18203,\n",
    "    \"Santa Catarina\": 428571,\n",
    "    \"Sergipe\": 51861,\n",
    "    \"São Paulo\": 2719751,\n",
    "    \"Tocantins\": 51781\n",
    "}\n",
    "\n",
    "pib_2021 = {\n",
    "    \"Acre\": 16476,\n",
    "    \"Alagoas\": 63202,\n",
    "    \"Amapá\": 18469,\n",
    "    \"Amazonas\": 116019,\n",
    "    \"Bahia\": 305321,\n",
    "    \"Ceará\": 166915,\n",
    "    \"Distrito Federal\": 265847,\n",
    "    \"Espírito Santo\": 138446,\n",
    "    \"Goiás\": 224126,\n",
    "    \"Maranhão\": 106916,\n",
    "    \"Mato Grosso\": 178650,\n",
    "    \"Mato Grosso do Sul\": 122628,\n",
    "    \"Minas Gerais\": 682786, \n",
    "    \"Paraná\": 487931,\n",
    "    \"Paraíba\": 70292,\n",
    "    \"Pará\": 215936,\n",
    "    \"Pernambuco\": 193307,\n",
    "    \"Piauí\": 56391,\n",
    "    \"Rio de Janeiro\": 753824,\n",
    "    \"Rio Grande do Norte\": 71577,\n",
    "    \"Rio Grande do Sul\": 470942, \n",
    "    \"Rondônia\": 51599,\n",
    "    \"Roraima\": 16024,\n",
    "    \"Santa Catarina\": 349275,\n",
    "    \"Sergipe\": 45410,\n",
    "    \"São Paulo\": 2377639,\n",
    "    \"Tocantins\": 43650\n",
    "    }"
   ]
  },
  {
   "cell_type": "code",
   "execution_count": null,
   "metadata": {},
   "outputs": [],
   "source": [
    "# seu código aqui"
   ]
  },
  {
   "cell_type": "markdown",
   "metadata": {},
   "source": [
    "### Desafio (esse exercício é mais difícil mesmo)\n",
    "### Temos o preço de diferentes ações no início de 2024 e em maio de 2024, queremos:\n",
    "    - Ação que mais subiu, ação que mais caiu no período (percentualmente)\n",
    "    - Se tivessemos 1.000 reais investido em um portfólio com as ações da carteira A vs um portfólio com as ações B, qual teria rendido mais? - considere que os 1.000 reais são investidos de forma proporcional entre cada ativo da carteira"
   ]
  },
  {
   "cell_type": "code",
   "execution_count": null,
   "metadata": {},
   "outputs": [],
   "source": [
    "acoes = {\n",
    "    \"PETR4\": [37.78, 37.01],\n",
    "    \"VALE3\": [77.05, 65.30],\n",
    "    \"ITUB4\": [33.52, 33.74],\n",
    "    \"ABEV3\": [13.71, 11.81],\n",
    "    \"WEGE3\": [36.57, 38.35],\n",
    "    \"BBAS3\": [27.38, 29.41],\n",
    "    \"JBSS3\": [25.17, 29.96],\n",
    "    \"SBSP3\": [73.63, 75.07]\n",
    "}\n",
    "\n",
    "carteiraA = [\"PETR4\", \"VALE3\", \"JBSS3\", \"SBSP3\"]\n",
    "carteiraB = [\"WEGE3\", \"BBAS3\", \"ITUB4\", \"ABEV3\"]"
   ]
  },
  {
   "cell_type": "code",
   "execution_count": null,
   "metadata": {},
   "outputs": [],
   "source": [
    "# seu código aqui - Ação que mais subiu, ação que mais caiu no período (percentualmente)"
   ]
  },
  {
   "cell_type": "code",
   "execution_count": null,
   "metadata": {},
   "outputs": [],
   "source": [
    "# seu código aqui - Se tivessemos 1.000 reais investido em um portfólio com as ações da carteira A vs um portfólio com as ações B, qual teria rendido mais? - considere que os 1.000 reais são investidos de forma proporcional entre cada ativo da carteira"
   ]
  }
 ],
 "metadata": {
  "kernelspec": {
   "display_name": "base",
   "language": "python",
   "name": "python3"
  },
  "language_info": {
   "codemirror_mode": {
    "name": "ipython",
    "version": 3
   },
   "file_extension": ".py",
   "mimetype": "text/x-python",
   "name": "python",
   "nbconvert_exporter": "python",
   "pygments_lexer": "ipython3",
   "version": "3.11.7"
  }
 },
 "nbformat": 4,
 "nbformat_minor": 2
}
