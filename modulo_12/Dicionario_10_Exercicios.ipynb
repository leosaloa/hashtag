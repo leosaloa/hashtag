{
 "cells": [
  {
   "cell_type": "markdown",
   "metadata": {},
   "source": [
    "### Exercício 1\n",
    "Crie um sistema de consulta de preços\n",
    "Seu sistema deve:\n",
    "- Pedir para o usuário o nome de um produto\n",
    "- Caso o produto exista na lista de produtos, o programa deve retornar o preço do produto como resposta\n",
    "       - Ex: O produto celular custa R$1500\n",
    "- Caso o produto não exista na lista de produtos, o programa deve printar uma mensagem para o usuário tentar novamente\n"
   ]
  },
  {
   "cell_type": "code",
   "execution_count": 14,
   "metadata": {},
   "outputs": [
    {
     "name": "stdout",
     "output_type": "stream",
     "text": [
      "O produto TESTE não foi encontrado, tente novamente!\n"
     ]
    }
   ],
   "source": [
    "precos = {\"celular\": 1500, \"camera\": 1000, \"fone de ouvido\": 800, \"monitor\": 2000}\n",
    "\n",
    "produto = input(str('Digite o nome do produto para consultar: ')).lower()\n",
    "\n",
    "if produto in precos:\n",
    "    print(f'O produto {produto} custa R$ {precos[produto]:.2f}')\n",
    "else:\n",
    "    print(f'O produto {produto.upper()} não foi encontrado, tente novamente!')"
   ]
  },
  {
   "cell_type": "markdown",
   "metadata": {},
   "source": [
    "\n",
    "### Exercício 2\n",
    "Agora edite o programa anterior para fazer com que, caso não exista o produto, o programa pergunte se o usuário quer cadastrar o produto\n",
    "<br>Se ele responder sim, o programa deve pedir o nome do produto e o preco do produto e cadastrar no dicionário de preços\n",
    "<br>Em seguida do cadastro bem sucedido, o programa deve printar o dicionário de precos atualizado\n"
   ]
  },
  {
   "cell_type": "code",
   "execution_count": 21,
   "metadata": {},
   "outputs": [
    {
     "name": "stdout",
     "output_type": "stream",
     "text": [
      "{'celular': 1500, 'camera': 1000, 'fone de ouvido': 800, 'monitor': 2000, 'teste': 5.0}\n"
     ]
    }
   ],
   "source": [
    "precos = {\"celular\": 1500, \"camera\": 1000, \"fone de ouvido\": 800, \"monitor\": 2000}\n",
    "produto = input(str('Digite o nome do produto para consultar: ')).lower()\n",
    "\n",
    "if produto in precos:\n",
    "    preco = precos[produto]\n",
    "    print(f'O produto {produto} custa R$ {preco:.2f}')\n",
    "else:\n",
    "    escolha = input(f'Deseja cadastrar o produto {produto.upper()}?[S/N]').lower()\n",
    "    if escolha == 's':\n",
    "        preco = float(input(f\"Digite o preço do {escolha} (apenas números)\"))\n",
    "        precos[produto] = preco\n",
    "        print(precos)\n",
    "    else:\n",
    "        print('Produto não encontrado, tente novamente\"')\n",
    "        "
   ]
  },
  {
   "cell_type": "markdown",
   "metadata": {},
   "source": [
    "### Exercício 3\n",
    "Dada a lista de preços de produtos, uma loja resolveu fazer um reajuste nos preços dos produtos. \n",
    "calcule o novo valor dos produtos com base nas seguintes regras:\n",
    "- Preços até 1.000 vão ter um reajuste de 10% (ou seja, o novo preço será 110% do preço atual)\n",
    "- Preços até maiores que 1.000 até 2.000 vão ter reajuste de 15%\n",
    "- Preços acima de 2.000 vão ter reajuste de 20%"
   ]
  },
  {
   "cell_type": "code",
   "execution_count": 27,
   "metadata": {},
   "outputs": [
    {
     "name": "stdout",
     "output_type": "stream",
     "text": [
      "{'celular': 1725.0, 'camera': 1100.0, 'fone de ouvido': 880.0, 'monitor': 3600.0}\n"
     ]
    }
   ],
   "source": [
    "precos = {\"celular\": 1500, \"camera\": 1000, \"fone de ouvido\": 800, \"monitor\": 3000}\n",
    "\n",
    "for produto in precos:\n",
    "    if precos[produto] <= 1000:\n",
    "        precos[produto] = (precos[produto] * 0.1) + precos[produto]\n",
    "    elif 1000 < precos[produto] <= 2000:\n",
    "        precos[produto] = (precos[produto] * 0.15) + precos[produto]\n",
    "    elif precos[produto] > 2000:\n",
    "        precos[produto] = (precos[produto] * 0.20) + precos[produto]\n",
    "print(f'{precos}')"
   ]
  },
  {
   "cell_type": "markdown",
   "metadata": {},
   "source": [
    "### Exercício 4\n",
    " - Edite o programa antigo para ter os 2 dicionários, o de preços originais e o de novos preços\n",
    " - Em seguida calcule o valor total de reajuste em R$ que teve entre a lista de produtos original e a lista final\n"
   ]
  },
  {
   "cell_type": "code",
   "execution_count": 37,
   "metadata": {},
   "outputs": [
    {
     "name": "stdout",
     "output_type": "stream",
     "text": [
      "{'celular': 1500, 'camera': 1000, 'fone de ouvido': 800, 'monitor': 3000}\n",
      "{'celular': 1725.0, 'camera': 1100.0, 'fone de ouvido': 880.0, 'monitor': 3600.0}\n",
      "Reajuste de 1005.0\n"
     ]
    }
   ],
   "source": [
    "precos = {\"celular\": 1500, \"camera\": 1000, \"fone de ouvido\": 800, \"monitor\": 3000}\n",
    "novos_precos = {}\n",
    "\n",
    "for produto in precos:\n",
    "    if precos[produto] <= 1000:\n",
    "        novo_preco = (precos[produto] * 0.1) + precos[produto]\n",
    "    elif 1000 < precos[produto] <= 2000:\n",
    "        novo_preco = (precos[produto] * 0.15) + precos[produto]\n",
    "    elif precos[produto] > 2000:\n",
    "        novo_preco = (precos[produto] * 0.20) + precos[produto]\n",
    "    else:\n",
    "        print('Algum produto esta fora do contexto.')\n",
    "    novos_precos[produto] = novo_preco\n",
    "    reajuste = sum(novos_precos.values()) - sum(precos.values())\n",
    "print(f'{precos}\\n{novos_precos}\\nReajuste de {reajuste}')"
   ]
  },
  {
   "cell_type": "markdown",
   "metadata": {},
   "source": [
    "\n",
    "### Exercício 5\n",
    "- Uma empresa está analisando os resultados de vendas do 1º semestre de 2022 e 2023\n",
    "- Qual foi o % de crescimento de cada mês de 2023 em relação a 2022?\n",
    "- Depois de calcular isso, calcule o valor total de crescimento de 2023 em relação a 2022"
   ]
  },
  {
   "cell_type": "code",
   "execution_count": 4,
   "metadata": {},
   "outputs": [
    {
     "name": "stdout",
     "output_type": "stream",
     "text": [
      "O mês jan teve o crescimento 13.33%\n",
      "O mês fev teve o crescimento -3.23%\n",
      "O mês mar teve o crescimento 25.00%\n",
      "O mês abr teve o crescimento 1.81%\n",
      "O mês mai teve o crescimento -1.84%\n",
      "O mês jun teve o crescimento 8.82%\n",
      "O crecimento do ano 2023 em relação ao 2022 foi de 6.89%\n"
     ]
    }
   ],
   "source": [
    "vendas_22 = {\"jan\": 15000, \"fev\": 15500, \"mar\": 14000, \"abr\": 16600, \"mai\": 16300, \"jun\": 17000}\n",
    "vendas_23 = {\"jan\": 17000, \"fev\": 15000, \"mar\": 17500, \"abr\": 16900, \"mai\": 16000, \"jun\": 18500}\n",
    "\n",
    "for mes in vendas_23:\n",
    "    valor_22 = vendas_22[mes]\n",
    "    valor_23 = vendas_23[mes]\n",
    "    percentual = valor_23 / valor_22 - 1\n",
    "    print(f'O mês {mes} teve o crescimento {percentual:.2%}')\n",
    "\n",
    "total_22 = sum(vendas_22.values())\n",
    "total_23 = sum(vendas_23.values())\n",
    "crescimento = total_23 / total_22 - 1\n",
    "\n",
    "print(f'O crecimento do ano 2023 em relação ao 2022 foi de {crescimento:.2%}')"
   ]
  },
  {
   "cell_type": "markdown",
   "metadata": {},
   "source": [
    "### Exercício 6 - Desafio\n",
    "- No final da reunião de apresentação dos números, seu chefe perguntou:\n",
    "- E se nos meses de 2023 que a gente vendeu menos do que 2022 a gente tivesse pelo menos empatado com 2022 (ou seja, se nos meses de 2023 em que as vendas foram menores do que o mesmo mês em 2022, o valor de vendas tivesse sido igual a 2022)\n",
    "- Qual teria sido o nosso crescimento de 2023 frente a 2022?"
   ]
  },
  {
   "cell_type": "code",
   "execution_count": 15,
   "metadata": {},
   "outputs": [
    {
     "name": "stdout",
     "output_type": "stream",
     "text": [
      "No mês de jan, a variação percentual foi de: 13.33%\n",
      "No mês de fev, a variação percentual foi de: 0.00%\n",
      "No mês de mar, a variação percentual foi de: 25.00%\n",
      "No mês de abr, a variação percentual foi de: 1.81%\n",
      "No mês de mai, a variação percentual foi de: 0.00%\n",
      "No mês de jun, a variação percentual foi de: 8.82%\n",
      "O crescimento simulado foi de 7.73%\n"
     ]
    }
   ],
   "source": [
    "for mes in vendas_23:\n",
    "    valor_22 = vendas_22[mes]\n",
    "    valor_23 = vendas_23[mes]\n",
    "    percentual = valor_23 / valor_22 - 1\n",
    "    if percentual < 0:\n",
    "        vendas_23[mes] = valor_22\n",
    "    print(f'No mês de {mes}, a variação percentual foi de: {percentual:.2%}')\n",
    "\n",
    "total_22 = sum(vendas_22.values())\n",
    "total_23 = sum(vendas_23.values())\n",
    "crescimento = total_23 / total_22 - 1\n",
    "print(f'O crescimento simulado foi de {crescimento:.2%}')"
   ]
  }
 ],
 "metadata": {
  "kernelspec": {
   "display_name": "base",
   "language": "python",
   "name": "python3"
  },
  "language_info": {
   "codemirror_mode": {
    "name": "ipython",
    "version": 3
   },
   "file_extension": ".py",
   "mimetype": "text/x-python",
   "name": "python",
   "nbconvert_exporter": "python",
   "pygments_lexer": "ipython3",
   "version": "3.11.7"
  }
 },
 "nbformat": 4,
 "nbformat_minor": 2
}
