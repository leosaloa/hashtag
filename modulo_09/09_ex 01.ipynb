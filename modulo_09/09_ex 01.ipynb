{
 "cells": [
  {
   "cell_type": "markdown",
   "metadata": {},
   "source": [
    "# Exercícios\n",
    "\n",
    "## 1. Criando um Registro de Hóspedes\n",
    "\n",
    "Digamos que você está criando o sistema para registrar a chegada de hóspedes em um hotel. No hotel, os hóspedes podem ter quartos com 1, 2, 3 e 4 pessoas. Seu sistema deve conseguir:\n",
    "\n",
    "1. Identificar quantas pessoas o hóspede que acabou de chegar vai ter no quarto (perguntando por meio de input)\n",
    "2. De acordo com a quantidade de pessoas do hóspede, ele deve fazer um for para perguntar o cpf e o nome de cada pessoa, a fim de registrá-la no quarto (2 inputs para cada pessoa, 1 para o cpf e outro para o nome)\n",
    "3. O seu programa então deve gerar uma lista com todas as pessoas que ficarão no quarto em que cada item dessa lista é o nome da pessoa e o cpf da pessoa, assim:"
   ]
  },
  {
   "cell_type": "raw",
   "metadata": {
    "vscode": {
     "languageId": "raw"
    }
   },
   "source": [
    "quarto = [\n",
    "    ['João', 'cpf:00000000000'],\n",
    "    ['Julia', 'cpf:11111111111'],\n",
    "    ['Marcus', 'cpf:22222222222'],\n",
    "    ['Maria', 'cpf:33333333333'],\n",
    "]"
   ]
  },
  {
   "cell_type": "raw",
   "metadata": {
    "vscode": {
     "languageId": "raw"
    }
   },
   "source": [
    "import random\n",
    "\n",
    "# Tupla existente\n",
    "existing_tuple = (10, 20, 30)\n",
    "\n",
    "# Gerar novos inteiros aleatórios\n",
    "new_ints = tuple(random.randint(1, 100) for _ in range(5))\n",
    "\n",
    "# Combinar a tupla existente com a nova tupla de inteiros\n",
    "combined_tuple = existing_tuple + new_ints\n",
    "\n",
    "print(combined_tuple)\n"
   ]
  },
  {
   "cell_type": "markdown",
   "metadata": {},
   "source": [
    "- Para simplificar, não vamos nos preocupar com possibilidades de \"tentar colocar mais de 1 hóspede, digitar o cpf errado, etc. Nosso objetivo é treinar a criação de uma rotina de cadastro"
   ]
  },
  {
   "cell_type": "code",
   "execution_count": 3,
   "metadata": {},
   "outputs": [
    {
     "name": "stdout",
     "output_type": "stream",
     "text": [
      "['dsad', 1165165161]\n",
      "['khkjh', 616516561]\n"
     ]
    }
   ],
   "source": [
    "#seu código aqui\n",
    "quarto = []\n",
    "qtd_pessoas = int(input('Digite a quantidade de pessoas: '))\n",
    "\n",
    "for i in range(qtd_pessoas):\n",
    "    nome = str(input('Digite o nome: '))\n",
    "    cpf = int(input('Digite o cpf: '))\n",
    "    quarto.append([nome, cpf])\n",
    "print(quarto)"
   ]
  },
  {
   "cell_type": "markdown",
   "metadata": {},
   "source": [
    "## 2. Análise de Vendas\n",
    "\n",
    "Nesse exercício vamos fazer uma \"análise simples\" de atingimento de Meta.\n",
    "\n",
    "Temos uma lista com os vendedores e os valores de vendas e queremos identificar (printar) quais os vendedores que bateram a meta e qual foi o valor que eles venderam."
   ]
  },
  {
   "cell_type": "code",
   "execution_count": 17,
   "metadata": {},
   "outputs": [
    {
     "name": "stdout",
     "output_type": "stream",
     "text": [
      "O vendedor João vendeu R$ 15000 que é equivalente a 150.00% da meta\n",
      "O vendedor Julia vendeu R$ 27000 que é equivalente a 270.00% da meta\n",
      "O vendedor Ana vendeu R$ 10300 que é equivalente a 103.00% da meta\n"
     ]
    }
   ],
   "source": [
    "meta = 10000\n",
    "cont = 0\n",
    "\n",
    "vendas = [\n",
    "    ['João', 15000],\n",
    "    ['Julia', 27000],\n",
    "    ['Marcus', 9900],\n",
    "    ['Maria', 3750],\n",
    "    ['Ana', 10300],\n",
    "    ['Alon', 7870],\n",
    "]\n",
    "\n",
    "for vl_vendas in vendas:\n",
    "    if vl_vendas[1] >= meta:\n",
    "        print(f'O vendedor {vl_vendas[0]} vendeu R$ {vl_vendas[1]} que é equivalente a {vl_vendas[1]/meta:.2%} da meta')\n",
    "    else:\n",
    "        pass"
   ]
  },
  {
   "cell_type": "markdown",
   "metadata": {},
   "source": [
    "## 3. Comparação com Ano Anterior\n",
    "\n",
    "Digamos que você está analisando as vendas de produtos de um ecommerce e quer identificar quais produtos tiveram no ano de 2020 mais vendas do que no ano de 2019, para reportar isso para a diretoria.\n",
    "\n",
    "Sua resposta pode ser um print de cada produto, qual foi a venda de 2019, a venda de 2020 e o % de crescimento de 2020 para 2019.\n",
    "\n",
    "Lembrando, para calcular o % de crescimento de um produto de um ano para o outro, podemos fazer: (vendas_produto2020/vendas_produto2019 - 1)\n",
    "\n",
    "Dica: lembre do enumerate, ele pode facilitar seu \"for\""
   ]
  },
  {
   "cell_type": "code",
   "execution_count": 12,
   "metadata": {},
   "outputs": [
    {
     "name": "stdout",
     "output_type": "stream",
     "text": [
      "Produto: iphone - Vendas 2019: 558147 - Venda 2020: 951642 - % Crescimento: 70.50%\n",
      "Produto: tv - Vendas 2019: 405252 - Venda 2020: 787604 - % Crescimento: 94.35%\n",
      "Produto: máquina de café - Vendas 2019: 718654 - Venda 2020: 867660 - % Crescimento: 20.73%\n",
      "Produto: notebook dell - Vendas 2019: 422760 - Venda 2020: 694913 - % Crescimento: 64.38%\n",
      "Produto: notebook hp - Vendas 2019: 154753 - Venda 2020: 539704 - % Crescimento: 248.75%\n",
      "Produto: microsoft surface - Vendas 2019: 438508 - Venda 2020: 667179 - % Crescimento: 52.15%\n",
      "Produto: webcam - Vendas 2019: 237467 - Venda 2020: 295633 - % Crescimento: 24.49%\n",
      "Produto: caixa de som - Vendas 2019: 489705 - Venda 2020: 725316 - % Crescimento: 48.11%\n",
      "Produto: microfone - Vendas 2019: 328311 - Venda 2020: 644622 - % Crescimento: 96.34%\n",
      "Produto: câmera canon - Vendas 2019: 591120 - Venda 2020: 994303 - % Crescimento: 68.21%\n"
     ]
    }
   ],
   "source": [
    "produtos = ['iphone', 'galaxy', 'ipad', 'tv', 'máquina de café', 'kindle', 'geladeira', 'adega', 'notebook dell', 'notebook hp', 'notebook asus', 'microsoft surface', 'webcam', 'caixa de som', 'microfone', 'câmera canon']\n",
    "vendas2019 = [558147,712350,573823,405252,718654,531580,973139,892292,422760,154753,887061,438508,237467,489705,328311,591120]\n",
    "vendas2020 = [951642,244295,26964,787604,867660,78830,710331,646016,694913,539704,324831,667179,295633,725316,644622,994303]\n",
    "\n",
    "for i, produto in enumerate(produtos):\n",
    "    if vendas2020[i] > vendas2019[i]:\n",
    "        print(f'Produto: {produto} - Vendas 2019: {vendas2019[i]} - Venda 2020: {vendas2020[i]} - % Crescimento: {vendas2020[i]/vendas2019[i]-1:.2%}')\n",
    "\n"
   ]
  }
 ],
 "metadata": {
  "kernelspec": {
   "display_name": "Python 3",
   "language": "python",
   "name": "python3"
  },
  "language_info": {
   "codemirror_mode": {
    "name": "ipython",
    "version": 3
   },
   "file_extension": ".py",
   "mimetype": "text/x-python",
   "name": "python",
   "nbconvert_exporter": "python",
   "pygments_lexer": "ipython3",
   "version": "3.11.5"
  }
 },
 "nbformat": 4,
 "nbformat_minor": 4
}
