{
 "cells": [
  {
   "cell_type": "code",
   "execution_count": 1,
   "id": "f384c181",
   "metadata": {},
   "outputs": [],
   "source": [
    "produtos = [\"iphone\", \"ipad\", \"airpod\", \"macbook\"]\n",
    "precos = [7000, 10000, 2500, 14000]"
   ]
  },
  {
   "cell_type": "markdown",
   "id": "ed0a699c",
   "metadata": {},
   "source": [
    "### For item in lista"
   ]
  },
  {
   "cell_type": "code",
   "execution_count": 4,
   "id": "3053355f",
   "metadata": {},
   "outputs": [
    {
     "name": "stdout",
     "output_type": "stream",
     "text": [
      "7700.000000000001\n",
      "11000.0\n",
      "2750.0\n",
      "15400.000000000002\n"
     ]
    }
   ],
   "source": [
    "# preco com imposto\n",
    "\n",
    "for preco in precos:\n",
    "    print(preco * 1.1)\n"
   ]
  },
  {
   "cell_type": "markdown",
   "id": "80aa8d07",
   "metadata": {},
   "source": [
    "### For i in range"
   ]
  },
  {
   "cell_type": "code",
   "execution_count": 7,
   "id": "74b8e12d",
   "metadata": {},
   "outputs": [
    {
     "name": "stdout",
     "output_type": "stream",
     "text": [
      "Produto iphone e valor 7000\n",
      "Produto ipad e valor 10000\n",
      "Produto airpod e valor 2500\n",
      "Produto macbook e valor 14000\n"
     ]
    }
   ],
   "source": [
    "# preco de cada produto\n",
    "for i in range(len(precos)):\n",
    "    produto = produtos[i]\n",
    "    preco = precos[i]\n",
    "    print(f'Produto {produto} e valor {preco}')"
   ]
  },
  {
   "cell_type": "markdown",
   "id": "ba0b37d3",
   "metadata": {},
   "source": [
    "### For item in lista com enumerate"
   ]
  },
  {
   "cell_type": "code",
   "execution_count": 10,
   "id": "38271545",
   "metadata": {},
   "outputs": [
    {
     "name": "stdout",
     "output_type": "stream",
     "text": [
      "Indice iphone, preco 7000\n",
      "Indice ipad, preco 10000\n",
      "Indice airpod, preco 2500\n",
      "Indice macbook, preco 14000\n"
     ]
    }
   ],
   "source": [
    "# preco de cada produto com imposto\n",
    "for i, preco in enumerate(precos):\n",
    "    print(f'Indice {produtos[i]}, preco {preco}')"
   ]
  }
 ],
 "metadata": {
  "kernelspec": {
   "display_name": "Python 3 (ipykernel)",
   "language": "python",
   "name": "python3"
  },
  "language_info": {
   "codemirror_mode": {
    "name": "ipython",
    "version": 3
   },
   "file_extension": ".py",
   "mimetype": "text/x-python",
   "name": "python",
   "nbconvert_exporter": "python",
   "pygments_lexer": "ipython3",
   "version": "3.11.5"
  }
 },
 "nbformat": 4,
 "nbformat_minor": 5
}
