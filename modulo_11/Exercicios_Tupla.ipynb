{
 "cells": [
  {
   "cell_type": "markdown",
   "metadata": {},
   "source": [
    "# Exercícios\n",
    "\n",
    "São exercícios bem parecidos com os que fizemos com listas. Mas na tupla, podemos não só trabalhar com índices, mas fazer o \"unpacking\" das tuplas, o que pode facilitar nossos códigos.\n",
    "\n",
    "## 1. Análise de Vendas\n",
    "\n",
    "Nesse exercício vamos fazer uma \"análise simples\" de atingimento de Meta.\n",
    "\n",
    "Temos uma lista com os vendedores e os valores de vendas e queremos identificar (printar) quais os vendedores que bateram a meta e qual foi o valor que eles venderam."
   ]
  },
  {
   "cell_type": "code",
   "execution_count": 2,
   "metadata": {},
   "outputs": [],
   "source": [
    "meta = 10000\n",
    "vendas = [\n",
    "    ('João', 15000),\n",
    "    ('Julia', 27000),\n",
    "    ('Marcus', 9900),\n",
    "    ('Maria', 3750),\n",
    "    ('Ana', 10300),\n",
    "    ('Alon', 7870),\n",
    "]"
   ]
  },
  {
   "cell_type": "code",
   "execution_count": null,
   "metadata": {},
   "outputs": [
    {
     "name": "stdout",
     "output_type": "stream",
     "text": [
      "Vendedores que bateram a meta:\n",
      "\n",
      "Vendedor João superou a meta com 15000 vendas\n",
      "Vendedor Julia superou a meta com 27000 vendas\n",
      "Vendedor Ana superou a meta com 10300 vendas\n"
     ]
    }
   ],
   "source": [
    "\n",
    "\n",
    "print(f'Vendedores que bateram a meta:\\n')\n",
    "for vendedor, qtde in vendas:\n",
    "    if qtde >= meta:\n",
    "        print(f'Vendedor {vendedor} superou a meta com {qtde} vendas')"
   ]
  },
  {
   "cell_type": "markdown",
   "metadata": {},
   "source": [
    "## 2. Comparação com Ano Anterior\n",
    "\n",
    "Digamos que você está analisando as vendas de produtos de um ecommerce e quer identificar quais produtos tiveram no ano de 2020 mais vendas do que no ano de 2019, para reportar isso para a diretoria.\n",
    "\n",
    "Sua resposta pode ser um print de cada produto, qual foi a venda de 2019, a venda de 2020 e o % de crescimento de 2020 para 2019.\n",
    "\n",
    "Lembrando, para calcular o % de crescimento de um produto de um ano para o outro, podemos fazer: (vendas_produto2020/vendas_produto2019 - 1)\n",
    "\n",
    "A lógica da tupla é: (produto, vendas2019, vendas2020)"
   ]
  },
  {
   "cell_type": "code",
   "execution_count": 12,
   "metadata": {},
   "outputs": [
    {
     "name": "stdout",
     "output_type": "stream",
     "text": [
      "Comparação de vendas 2020 x 2019\n",
      "\n",
      "Produto: iphone               | Vendas 2019: 558147     | Vendas 2020: 951642     | Crescimento: 70.50%\n",
      "Produto: tv                   | Vendas 2019: 405252     | Vendas 2020: 787604     | Crescimento: 94.35%\n",
      "Produto: máquina de café      | Vendas 2019: 718654     | Vendas 2020: 867660     | Crescimento: 20.73%\n",
      "Produto: notebook dell        | Vendas 2019: 422760     | Vendas 2020: 694913     | Crescimento: 64.38%\n",
      "Produto: notebook hp          | Vendas 2019: 154753     | Vendas 2020: 539704     | Crescimento: 248.75%\n",
      "Produto: microsoft surface    | Vendas 2019: 438508     | Vendas 2020: 667179     | Crescimento: 52.15%\n",
      "Produto: webcam               | Vendas 2019: 237467     | Vendas 2020: 295633     | Crescimento: 24.49%\n",
      "Produto: caixa de som         | Vendas 2019: 489705     | Vendas 2020: 725316     | Crescimento: 48.11%\n",
      "Produto: microfone            | Vendas 2019: 328311     | Vendas 2020: 644622     | Crescimento: 96.34%\n",
      "Produto: câmera canon         | Vendas 2019: 591120     | Vendas 2020: 994303     | Crescimento: 68.21%\n"
     ]
    }
   ],
   "source": [
    "vendas_produtos = [('iphone', 558147, 951642), ('galaxy', 712350, 244295), ('ipad', 573823, 26964), ('tv', 405252, 787604), ('máquina de café', 718654, 867660), ('kindle', 531580, 78830), ('geladeira', 973139, 710331), ('adega', 892292, 646016), ('notebook dell', 422760, 694913), ('notebook hp', 154753, 539704), ('notebook asus', 887061, 324831), ('microsoft surface', 438508, 667179), ('webcam', 237467, 295633), ('caixa de som', 489705, 725316), ('microfone', 328311, 644622), ('câmera canon', 591120, 994303)]\n",
    "\n",
    "print('Comparação de vendas 2020 x 2019\\n')\n",
    "\n",
    "for item in vendas_produtos:\n",
    "    produto, vendas2019, vendas2020 = item\n",
    "    calc_crescimento = (vendas2020/vendas2019) - 1\n",
    "    if vendas2020 > vendas2019:\n",
    "        print(f'Produto: {produto:<20} | Vendas 2019: {vendas2019:<10} | Vendas 2020: {vendas2020:<10} | Crescimento: {calc_crescimento:.2%}')"
   ]
  }
 ],
 "metadata": {
  "kernelspec": {
   "display_name": "base",
   "language": "python",
   "name": "python3"
  },
  "language_info": {
   "codemirror_mode": {
    "name": "ipython",
    "version": 3
   },
   "file_extension": ".py",
   "mimetype": "text/x-python",
   "name": "python",
   "nbconvert_exporter": "python",
   "pygments_lexer": "ipython3",
   "version": "3.11.7"
  }
 },
 "nbformat": 4,
 "nbformat_minor": 4
}
