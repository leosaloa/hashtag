{
 "cells": [
  {
   "cell_type": "markdown",
   "metadata": {},
   "source": [
    "# Exercícios\n",
    "\n",
    "## 1. Faturamento do Melhor e do Pior Mês do Ano\n",
    "\n",
    "Qual foi o valor de vendas do melhor mês do Ano?\n",
    "E valor do pior mês do ano?"
   ]
  },
  {
   "cell_type": "code",
   "execution_count": 23,
   "metadata": {},
   "outputs": [
    {
     "name": "stdout",
     "output_type": "stream",
     "text": [
      "O volume de vendas do melhor mês foi 49051 e o pior foi 9650\n"
     ]
    }
   ],
   "source": [
    "meses = ['jan', 'fev', 'mar', 'abr', 'mai', 'jun', 'jul', 'ago', 'set', 'out', 'nov', 'dez']\n",
    "vendas_1sem = [25000, 29000, 22200, 17750, 15870, 19900]\n",
    "vendas_2sem = [19850, 20120, 17540, 15555, 49051, 9650]\n",
    "vendas_ano = vendas_1sem + vendas_2sem\n",
    "\n",
    "mais_vendido = max(vendas_ano)\n",
    "i_mais_vendido = vendas_ano.index(mais_vendido)\n",
    "mes_mais_vendas = meses[i_mais_vendido]\n",
    "\n",
    "menos_vendido = min(vendas_ano)\n",
    "i_menos_vendido = vendas_ano.index(menos_vendido)\n",
    "mes_menos_vendido = meses[i_menos_vendido]\n",
    "\n",
    "print(f'O volume de vendas do melhor mês foi {mais_vendido} e o pior foi {menos_vendido}')"
   ]
  },
  {
   "cell_type": "markdown",
   "metadata": {},
   "source": [
    "## 2. Continuação\n",
    "\n",
    "Agora relacione as duas listas para printar 'O melhor mês do ano foi {} com {} vendas' e o mesmo para o pior mês do ano.\n",
    "\n",
    "Calcule também o faturamento total do Ano e quanto que o melhor mês representou do faturamento total.\n",
    "\n",
    "Obs: Para o faturamento total, pode usar a função sum(lista) que soma todos os itens de uma lista"
   ]
  },
  {
   "cell_type": "code",
   "execution_count": 24,
   "metadata": {},
   "outputs": [
    {
     "name": "stdout",
     "output_type": "stream",
     "text": [
      "O melhor mês do ano foi nov com 49051 vendas\n",
      "O pior mês do ano foi dez com 9650 vendas\n",
      "Faturamento total: R$ 261,486.00\n",
      "O melhor mês representa 18.76%\n"
     ]
    }
   ],
   "source": [
    "print(f'O melhor mês do ano foi {mes_mais_vendas} com {mais_vendido} vendas')\n",
    "print(f'O pior mês do ano foi {mes_menos_vendido} com {menos_vendido} vendas')\n",
    "print(f'Faturamento total: R$ {sum(vendas_ano):,.2f}\\nO melhor mês representa {mais_vendido/sum(vendas_ano):.2%}')"
   ]
  },
  {
   "cell_type": "markdown",
   "metadata": {},
   "source": [
    "## 3. Crie uma lista com o top 3 valores de vendas do ano (sem fazer \"no olho\")\n",
    "\n",
    "Dica: o método remove retira um item da lista."
   ]
  },
  {
   "cell_type": "code",
   "execution_count": 25,
   "metadata": {},
   "outputs": [
    {
     "name": "stdout",
     "output_type": "stream",
     "text": [
      "[49051, 29000, 25000]\n",
      "[22200, 17750, 15870, 19900, 19850, 20120, 17540, 15555, 9650]\n"
     ]
    }
   ],
   "source": [
    "top3 = []\n",
    "\n",
    "maior_valor = max(vendas_ano)\n",
    "top3.append(maior_valor)\n",
    "vendas_ano.remove(maior_valor)\n",
    "\n",
    "maior_valor = max(vendas_ano)\n",
    "top3.append(maior_valor)\n",
    "vendas_ano.remove(maior_valor)\n",
    "\n",
    "maior_valor = max(vendas_ano)\n",
    "top3.append(maior_valor)\n",
    "vendas_ano.remove(maior_valor)\n",
    "\n",
    "print(top3)\n",
    "print(vendas_ano)"
   ]
  }
 ],
 "metadata": {
  "kernelspec": {
   "display_name": "Python 3",
   "language": "python",
   "name": "python3"
  },
  "language_info": {
   "codemirror_mode": {
    "name": "ipython",
    "version": 3
   },
   "file_extension": ".py",
   "mimetype": "text/x-python",
   "name": "python",
   "nbconvert_exporter": "python",
   "pygments_lexer": "ipython3",
   "version": "3.11.5"
  }
 },
 "nbformat": 4,
 "nbformat_minor": 4
}
