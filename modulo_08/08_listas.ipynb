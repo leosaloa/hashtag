{
 "cells": [
  {
   "cell_type": "markdown",
   "metadata": {},
   "source": [
    "### Exercício 1\n",
    "### Crie um sistema de cadastro de produtos em uma lista de produtos\n",
    "Seu sistema deve:\n",
    "- Pegar o usuário qual produto vai ser cadastrado por meio de um input\n",
    "- Garantir que se o usuário escrever com letra maiúscula ou minúscula, o produto continua sendo o mesmo produto\n",
    "- Se o usuário inserir um produto que já existe na lista, o programa deve printar a mensagem \"Produto já existente, tente novamente\"\n",
    "- Se o usuário inserir um produto que não existe na lista, o programa deve inserir na lista, printar a mensagem Produto X cadastrado com sucesso e em seguida printar a lista completa"
   ]
  },
  {
   "cell_type": "code",
   "execution_count": 6,
   "metadata": {},
   "outputs": [],
   "source": [
    "produtos = [\"celular\", \"camera\", \"fone de ouvido\", \"monitor\"]\n"
   ]
  },
  {
   "cell_type": "code",
   "execution_count": 7,
   "metadata": {},
   "outputs": [
    {
     "name": "stdout",
     "output_type": "stream",
     "text": [
      "Produto teclado cadastrado na lista\n",
      "['celular', 'camera', 'fone de ouvido', 'monitor', 'teclado']\n",
      "Produto já existente, tente novamente\n",
      "['celular', 'camera', 'fone de ouvido', 'monitor', 'teclado']\n",
      "Produto mouse cadastrado na lista\n",
      "['celular', 'camera', 'fone de ouvido', 'monitor', 'teclado', 'mouse']\n",
      "Programa fechado, lista final \n",
      "['celular', 'camera', 'fone de ouvido', 'monitor', 'teclado', 'mouse']\n"
     ]
    }
   ],
   "source": [
    "cancelado = ''\n",
    "\n",
    "while cancelado != 'N':\n",
    "    novo_produto = str(input('Digite o nome do novo produto')).lower()\n",
    "    if novo_produto not in produtos:\n",
    "        produtos.append(novo_produto.strip())\n",
    "        print(f'Produto {novo_produto} cadastrado na lista')\n",
    "        print(produtos)\n",
    "    elif novo_produto in produtos:\n",
    "        print('Produto já existente, tente novamente')\n",
    "        print(produtos)\n",
    "    else:\n",
    "        print('Algo deu errado!')\n",
    "    cancelado = str(input('Deseja adicionar mais produtos [S/N]? ')).upper()\n",
    "print(f'Programa fechado, lista final \\n{produtos}')"
   ]
  },
  {
   "cell_type": "markdown",
   "metadata": {},
   "source": [
    "### Exercício 2\n",
    "#### Crie um sistema de consulta de preços\n",
    "Seu sistema deve:\n",
    "- Pedir para o usuário o nome de um produto\n",
    "- Caso o produto exista na lista de produtos, o programa deve retornar o preço do produto como resposta\n",
    "       - Ex: O produto celular custa R$1500\n",
    "- Caso o produto não exista na lista de produtos, o programa deve printar uma mensagem para o usuário tentar novamente\n"
   ]
  },
  {
   "cell_type": "code",
   "execution_count": 11,
   "metadata": {},
   "outputs": [
    {
     "name": "stdout",
     "output_type": "stream",
     "text": [
      "O produto fone de ouvido custa R$ 800\n"
     ]
    }
   ],
   "source": [
    "produtos = [\"celular\", \"camera\", \"fone de ouvido\", \"monitor\"]\n",
    "precos = [1500, 1000, 800, 2000]\n",
    "\n",
    "produto = str(input('Digite um produto: ')).lower()\n",
    "\n",
    "if produto in produtos:\n",
    "    i_produto = produtos.index(produto)\n",
    "    nome_produto = produtos[i_produto]\n",
    "    print(f'O produto {nome_produto} custa R$ {precos[i_produto]:.2f}')\n",
    "elif produto not in produtos:\n",
    "    print('Produto não localizado, tente novamente!')\n",
    "else:\n",
    "    print('Algo deu errado')"
   ]
  },
  {
   "cell_type": "markdown",
   "metadata": {},
   "source": [
    "### Exercício 3\n",
    "#### Crie um sistema de consulta de bônus dos funcionários\n",
    "Seu sistema deve:\n",
    "- Pegar o valor de vendas do funcinoário por meio de um input\n",
    "- Calcular o bônus do funcionário de acordo com a seguinte regra:\n",
    "      - Se o funcionário vendeu mais de 1000 unidades, ele ganha R$2 de bonus para cada unidade vendida\n",
    "      - Se o funcionário vendeu mais de 5000 unidades, ele ganha R$2 de bônus para cada unidade + um valor fixo de R$1000\n",
    "      - Se o funcionário vendeu menos de 1000 unidades, ele não ganha bônus\n",
    "- Printar no final o valor do bônus do funcionário\n"
   ]
  },
  {
   "cell_type": "code",
   "execution_count": 5,
   "metadata": {},
   "outputs": [
    {
     "name": "stdout",
     "output_type": "stream",
     "text": [
      "O funcionario  tem de bônus R$ 11000.00\n"
     ]
    }
   ],
   "source": [
    "vendas = int(input('Digite a quantidade de unidades vendidas: '))\n",
    "\n",
    "ma_1000 = vendas * 2\n",
    "ma_5000 = (vendas * 2) + 1000 \n",
    "\n",
    "if vendas >= 5000:\n",
    "    print(f'O funcionario  tem de bônus R$ {ma_5000:.2f}')\n",
    "elif vendas >= 1000:\n",
    "    print(f'O funcionario  tem de bônus R$ {ma_1000:.2f}')\n",
    "else:\n",
    "    print('O funcionario não possui bônus!')"
   ]
  },
  {
   "cell_type": "markdown",
   "metadata": {},
   "source": [
    "### Exercício 4\n",
    "Crie um programa que consiga descobrir qual dos vendedores vendeu mais\n",
    "<br>As vendas dos vendedores são listas com a quantidade vendida por cada vendedor"
   ]
  },
  {
   "cell_type": "code",
   "execution_count": 2,
   "metadata": {},
   "outputs": [
    {
     "name": "stdout",
     "output_type": "stream",
     "text": [
      "O vendedor 1 vendeu mais!\n"
     ]
    }
   ],
   "source": [
    "vendas = [\n",
    "    [10, 20, 100, 80, 90, 100, 20, 30, 44, 55, 33, 34, 100, 90, 80, 39, 87, 45, 50, 50, 50, 50, 40, 30, 3, 93, 39, 49, 88],    \n",
    "    [100, 1, 1, 4, 5, 90, 100, 20, 4, 5, 100, 100, 100, 100, 100, 93, 20, 15, 40, 90, 90, 90, 90, 90, 90, 33, 22, 44, 43, 34],\n",
    "]\n",
    "\n",
    "vendedor1 = sum(vendas[0])\n",
    "vendedor2 = sum(vendas[1])\n",
    "\n",
    "if vendedor1 > vendedor2:\n",
    "    print(f'O vendedor 1 vendeu mais!')\n",
    "elif vendedor1 < vendedor2:\n",
    "    print(f'O vendedor 2 vendeu mais!')\n",
    "else:\n",
    "    print('Algo deu errado')"
   ]
  }
 ],
 "metadata": {
  "kernelspec": {
   "display_name": "Python 3",
   "language": "python",
   "name": "python3"
  },
  "language_info": {
   "codemirror_mode": {
    "name": "ipython",
    "version": 3
   },
   "file_extension": ".py",
   "mimetype": "text/x-python",
   "name": "python",
   "nbconvert_exporter": "python",
   "pygments_lexer": "ipython3",
   "version": "3.11.5"
  }
 },
 "nbformat": 4,
 "nbformat_minor": 2
}
