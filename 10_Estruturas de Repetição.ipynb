{
 "cells": [
  {
   "cell_type": "markdown",
   "id": "ac60394f",
   "metadata": {
    "id": "ac60394f"
   },
   "source": [
    "# Estruturas de repetição\n",
    "\n",
    "<span style=\"color: red;\"><b>Todos os exercícios são feitos partindo-se do pressuposto de que todas as entradas são dadas de forma correta. Casos limite não mencionados no enunciado não são abordados porque não fazem parte do exercício.</b></span>"
   ]
  },
  {
   "cell_type": "markdown",
   "id": "017affd0",
   "metadata": {
    "id": "017affd0"
   },
   "source": [
    "#### 1. Faça um programa que peça uma nota, entre zero e dez. Mostre uma mensagem caso o valor seja inválido e continue pedindo até que o usuário informe um valor válido."
   ]
  },
  {
   "cell_type": "code",
   "execution_count": 8,
   "id": "5f12870d",
   "metadata": {
    "id": "5f12870d"
   },
   "outputs": [],
   "source": [
    "nota = int(input('Digite um valor de 0 a 10'))\n",
    "while not (0 <= nota <= 10):\n",
    "    print('Nota Invalida')\n",
    "    nota = int(input('Digite um valor de 0 a 10'))"
   ]
  },
  {
   "cell_type": "markdown",
   "id": "dd0c6d56",
   "metadata": {
    "id": "dd0c6d56"
   },
   "source": [
    "#### 2. Faça um programa que leia um nome de usuário e a sua senha e não aceite a senha igual ao nome do usuário, mostrando uma mensagem de erro e voltando a pedir as informações."
   ]
  },
  {
   "cell_type": "code",
   "execution_count": 3,
   "id": "f6579866",
   "metadata": {
    "id": "f6579866"
   },
   "outputs": [
    {
     "name": "stdout",
     "output_type": "stream",
     "text": [
      "O usuario não pode ser o mesmo que a senha\n"
     ]
    }
   ],
   "source": [
    "usuario = str(input('Digite o usuario: '))\n",
    "senha = str(input('Digite a senha: '))\n",
    "\n",
    "while usuario == senha:\n",
    "    if not usuario:\n",
    "        break\n",
    "    print('O usuario não pode ser o mesmo que a senha')\n",
    "    usuario = str(input('Digite o usuario: '))\n",
    "    senha = str(input('Digite a senha: '))"
   ]
  },
  {
   "cell_type": "markdown",
   "id": "ed113a82",
   "metadata": {
    "id": "ed113a82"
   },
   "source": [
    "#### 3. Faça um programa que leia e valide as seguintes informações (e para cada uma delas, continue pedindo a informação até o usuário inserir corretamente):\n",
    "##### Nome: maior que 3 caracteres;\n",
    "##### Idade: entre 0 e 150;\n",
    "##### Salário: maior que zero;\n",
    "##### Sexo: 'f' ou 'm';\n",
    "##### Estado Civil: 's', 'c', 'v', 'd';"
   ]
  },
  {
   "cell_type": "code",
   "execution_count": 1,
   "id": "3284f187",
   "metadata": {
    "id": "3284f187"
   },
   "outputs": [
    {
     "name": "stdout",
     "output_type": "stream",
     "text": [
      "Nome: Leonardo\n",
      "Idade: 29\n",
      "Salario: 7000.0\n",
      "Sexo: M\n",
      "Estado Civil: C\n"
     ]
    }
   ],
   "source": [
    "nome = str(input('Digite o nome: '))\n",
    "\n",
    "while len(nome) <= 3:\n",
    "    print('Digite o nome com mais de 3 caracteres')\n",
    "    nome = str(input('Digite o nome: '))\n",
    "\n",
    "\n",
    "idade = int(input('Digite sua idade: '))\n",
    "\n",
    "while not (0 <= idade <= 150):\n",
    "    print('Digite a idade entre 0 e 150')\n",
    "    idade = int(input('Digite sua idade: '))\n",
    "\n",
    "\n",
    "salario = float(input('Digite o seu salario: '))\n",
    "\n",
    "while salario <= 0:\n",
    "    print('Digite o salario maior que 0')\n",
    "    salario = float(input('Digite o seu salario: '))\n",
    "\n",
    "sexo = str(input('Digite o sexo [f]/[m]')).upper()\n",
    "\n",
    "while sexo not in (['F', 'M']):\n",
    "    print('Digite o f ou m')\n",
    "    sexo = str(input('Digite o sexo [f]/[m]')).upper()\n",
    "\n",
    "estado_civil = str(input('Digite o estado civil s(solteiro), c(casado), v(viuvo), d(divorciado)')).upper()\n",
    "\n",
    "while estado_civil not in (['S', 'C', 'V', 'D']):\n",
    "    print('Digite somente s, c, v, d')\n",
    "    estado_civil = str(input('Digite o estado civil s(solteiro), c(casado), v(viuvo), d(divorciado)')).upper()\n",
    "\n",
    "print(f'Nome: {nome}\\nIdade: {idade}\\nSalario: {salario}\\nSexo: {sexo}\\nEstado Civil: {estado_civil}')\n",
    "\n"
   ]
  },
  {
   "cell_type": "markdown",
   "id": "2f25dceb",
   "metadata": {
    "id": "2f25dceb"
   },
   "source": [
    "#### 4. Supondo que a população de um país A seja da ordem de 80000 habitantes com uma taxa anual de crescimento de 3% e que a população de B seja 200000 habitantes com uma taxa de crescimento de 1.5%. Faça um programa que calcule e escreva o número de anos necessários para que a população do país A ultrapasse ou iguale a população do país B, mantidas as taxas de crescimento."
   ]
  },
  {
   "cell_type": "code",
   "execution_count": 12,
   "id": "7ad0f5e9",
   "metadata": {
    "id": "7ad0f5e9"
   },
   "outputs": [
    {
     "name": "stdout",
     "output_type": "stream",
     "text": [
      "O pais A esta com 200006 habitantes e o pais B com 200000.\n",
      "Levou certa de 31 anos para igualar ou ultrapassar\n"
     ]
    }
   ],
   "source": [
    "pais_a = 80000\n",
    "tx_cresc_anual_a = 0.03\n",
    "pais_b = 200000\n",
    "tx_cresc_anual_b = 0.015\n",
    "\n",
    "count = 0\n",
    "\n",
    "while pais_a <= pais_b:\n",
    "    pais_a = pais_a + (pais_a * tx_cresc_anual_a)\n",
    "    count += 1\n",
    "print(f'O pais A esta com {pais_a:.0f} habitantes e o pais B com {pais_b}.\\nLevou certa de {count} anos para igualar ou ultrapassar')"
   ]
  },
  {
   "cell_type": "markdown",
   "id": "e9626858",
   "metadata": {
    "id": "e9626858"
   },
   "source": [
    "#### 5. Altere o programa anterior permitindo ao usuário informar as populações e as taxas de crescimento iniciais. Valide a entrada e permita repetir a operação."
   ]
  },
  {
   "cell_type": "code",
   "execution_count": null,
   "id": "c7e250a4",
   "metadata": {
    "id": "c7e250a4"
   },
   "outputs": [
    {
     "name": "stdout",
     "output_type": "stream",
     "text": [
      "O pais A esta com 200006 habitantes e o pais B com 200000.\n",
      "Levou certa de 31 anos para igualar ou ultrapassar\n"
     ]
    }
   ],
   "source": [
    "# Variaveis pais A\n",
    "pais_a = int(input('Digite a população do pais A'))\n",
    "tx_cresc_anual_a = float(input('Digite a taxa de crescimento do pais A'))\n",
    "tx_cresc_anual_a_calc = tx_cresc_anual_a / 100\n",
    "\n",
    "# Variaveis pais B\n",
    "pais_b = int(input('Digite a população do pais B'))\n",
    "tx_cresc_anual_b = float(input('Digite a taxa de crescimento do pais B'))\n",
    "tx_cresc_anual_b_calc = tx_cresc_anual_b / 100\n",
    "\n",
    "count = 0\n",
    "\n",
    "if pais_a < pais_b:\n",
    "    while pais_a <= pais_b:\n",
    "        pais_a = pais_a + (pais_a * tx_cresc_anual_a_calc)\n",
    "        count += 1\n",
    "    print(f'O pais A esta com {pais_a:.0f} habitantes e o pais B com {pais_b}.\\nLevou certa de {count} anos para igualar ou ultrapassar')\n",
    "else:\n",
    "    while pais_b <= pais_a:\n",
    "        pais_b = pais_b + (pais_b * tx_cresc_anual_b_calc)\n",
    "        count += 1\n",
    "    print(f'Else: O pais A esta com {pais_b:.0f} habitantes e o pais B com {pais_a}.\\nLevou certa de {count} anos para igualar ou ultrapassar')    \n"
   ]
  },
  {
   "cell_type": "markdown",
   "id": "b3d268b5",
   "metadata": {
    "id": "b3d268b5"
   },
   "source": [
    "#### 6. Faça um programa que peça para o usuário inserir o faturamento dos últimos 5 meses (individualmente) e informe o maior faturamento"
   ]
  },
  {
   "cell_type": "code",
   "execution_count": 30,
   "id": "8078e7a5",
   "metadata": {
    "id": "8078e7a5"
   },
   "outputs": [
    {
     "name": "stdout",
     "output_type": "stream",
     "text": [
      "\n",
      "faturamento_hst = [[1, 300.0], [2, 5000.0], [3, 9999.0], [4, 0.0], [5, 1000.0]]\n",
      "Maior Faturamento = 9999.0 no mês 3\n"
     ]
    }
   ],
   "source": [
    "faturamento_mes = []\n",
    "faturamento_valor = []\n",
    "faturamento_hst = []\n",
    "count = 0\n",
    "\n",
    "while count < 5:\n",
    "    faturamento_mes = int(input('Digite o mes do fechamento: '))\n",
    "    faturamento_valor = float(input('Digite o valor do fechamento: '))\n",
    "    \n",
    "    faturamento_hst.append([faturamento_mes, faturamento_valor])\n",
    "    count += 1\n",
    "\n",
    "maior_faturamento = max(faturamento_hst, key=lambda x: x[1])\n",
    "\n",
    "print(f'\\nfaturamento_hst = {faturamento_hst}\\nMaior Faturamento = {maior_faturamento[1]} no mês {maior_faturamento[0]}')\n"
   ]
  },
  {
   "cell_type": "markdown",
   "id": "6407824c",
   "metadata": {
    "id": "6407824c"
   },
   "source": [
    "#### 7. Faça um programa que peça para o usuário inserir o faturamento dos últimos 5 meses (individualmente) e informe o faturamento total (soma) e o faturamento médio por mês (média)."
   ]
  },
  {
   "cell_type": "code",
   "execution_count": null,
   "id": "a02320d1",
   "metadata": {
    "id": "a02320d1"
   },
   "outputs": [],
   "source": [
    "faturamento_mes = []\n",
    "faturamento_valor = []\n",
    "faturamento_hst = []\n",
    "count = 0\n",
    "\n",
    "while count < 5:\n",
    "    faturamento_mes = int(input('Digite o mes do fechamento: '))\n",
    "    faturamento_valor = float(input('Digite o valor do fechamento: '))\n",
    "    \n",
    "    faturamento_hst.append([faturamento_mes, faturamento_valor])\n",
    "    count += 1\n",
    "\n",
    "maior_faturamento = max(faturamento_hst, key=lambda x: x[1])\n",
    "\n",
    "print(f'\\nfaturamento_hst = {faturamento_hst}\\nMaior Faturamento = {maior_faturamento[1]} no mês {maior_faturamento[0]}')"
   ]
  },
  {
   "cell_type": "markdown",
   "id": "703f3c4d",
   "metadata": {
    "id": "703f3c4d"
   },
   "source": [
    "#### 8. Faça um programa que consiga categorizar a idade das equipes de uma empresa. Faça um programa que peça para n pessoas a sua idade, ao final o programa devera verificar se a média de idade da equipe varia entre 0 e 25 (jovem) ,26 e 60 (sênior) e maior que 60 (idosa); e então, dizer se a equipe é jovem, sênior ou idosa, conforme a média calculada."
   ]
  },
  {
   "cell_type": "code",
   "execution_count": null,
   "id": "b56a85de",
   "metadata": {
    "id": "b56a85de"
   },
   "outputs": [
    {
     "name": "stdout",
     "output_type": "stream",
     "text": [
      "qtde: 5\n",
      "total: 19\n",
      "media: 3.8\n",
      "Grupo 0 a 25 - Jovem\n"
     ]
    }
   ],
   "source": [
    "qtde = int(input('Me informe quantas pessoas serão: '))\n",
    "\n",
    "total = 0\n",
    "\n",
    "for i in range(qtde):\n",
    "    idade = int(input(f'Informe a {i+1}ª idade: '))\n",
    "    total += idade\n",
    "\n",
    "media = total / qtde\n",
    "\n",
    "if 0 <= media <= 25:\n",
    "    print(f'Grupo 0 a 25 - Jovem')\n",
    "elif 26 <= media <= 60:\n",
    "    print(f'Grupo 26 a 60 - Sênior')\n",
    "elif 60 < media:\n",
    "    print(f'Grupo maior que 60 - Idoso')\n",
    "else:\n",
    "    print('Algo deu errado')\n"
   ]
  },
  {
   "cell_type": "markdown",
   "id": "aad21b98",
   "metadata": {
    "id": "aad21b98"
   },
   "source": [
    "#### 9. Numa eleição existem três candidatos. Faça um programa que peça o número total de eleitores. Peça para cada eleitor votar e ao final mostrar o número de votos de cada candidato."
   ]
  },
  {
   "cell_type": "code",
   "execution_count": 15,
   "id": "84aa7a93",
   "metadata": {
    "id": "84aa7a93"
   },
   "outputs": [
    {
     "name": "stdout",
     "output_type": "stream",
     "text": [
      "Candidato 1: 2\n",
      "Candidato 2: 3\n",
      "Candidato 3: 1\n"
     ]
    }
   ],
   "source": [
    "candidato1 = 0\n",
    "candidato2 = 0\n",
    "candidato3 = 0\n",
    "\n",
    "qtde = int(input('Digite o numero total de eleitores'))\n",
    "\n",
    "for i in range(qtde):\n",
    "    canditato = int(input(f'Digite o voto do eleitor {i+1} escolha entre 1, 2 e 3: '))\n",
    "    if canditato == 1:\n",
    "        candidato1 += 1\n",
    "    elif canditato == 2:\n",
    "        candidato2 += 1\n",
    "    elif canditato == 3:\n",
    "        candidato3 += 1\n",
    "\n",
    "print(f'Candidato 1: {candidato1}\\nCandidato 2: {candidato2}\\nCandidato 3: {candidato3}')"
   ]
  },
  {
   "cell_type": "markdown",
   "id": "6e306453",
   "metadata": {
    "id": "6e306453"
   },
   "source": [
    "#### 10. Faça um programa que calcule o valor total investido por um colecionador em sua coleção de CDs e o valor médio gasto em cada um deles. O usuário deverá informar a quantidade de CDs e o valor para em cada um."
   ]
  },
  {
   "cell_type": "code",
   "execution_count": 2,
   "id": "6b7fa4a2",
   "metadata": {
    "id": "6b7fa4a2"
   },
   "outputs": [
    {
     "name": "stdout",
     "output_type": "stream",
     "text": [
      "A media é R$ 10.00 por CD\n"
     ]
    }
   ],
   "source": [
    "qtde = int(input('Informe a quantidade de CDs'))\n",
    "total = 0\n",
    "\n",
    "for i in range(qtde):\n",
    "    valor = int(input(f'Digiteo valor do {i+1} CD'))\n",
    "    total += valor\n",
    "\n",
    "print(f'A media é R$ {total/qtde:.2f} por CD')"
   ]
  },
  {
   "cell_type": "markdown",
   "id": "f19c8d86",
   "metadata": {
    "id": "f19c8d86"
   },
   "source": [
    "#### 11. O Sr. Manoel Joaquim possui uma grande loja de artigos de R\\\\$ 1,99, com cerca de 10 caixas. Para agilizar o cálculo de quanto cada cliente deve pagar ele desenvolveu um tabela que contém o número de itens que o cliente comprou e ao lado o valor da conta. Desta forma a atendente do caixa precisa apenas contar quantos itens o cliente está levando e olhar na tabela de preços. Você foi contratado para desenvolver o programa que monta esta tabela de preços, que conterá os preços de 1 até 50 produtos, conforme o exemplo abaixo:\n",
    "<pre>\n",
    "Lojas Quase Dois - Tabela de preços\n",
    "1 - R$ 1.99\n",
    "2 - R$ 3.98\n",
    "...\n",
    "50 - R$ 99.50\n",
    "</pre>"
   ]
  },
  {
   "cell_type": "code",
   "execution_count": 3,
   "id": "4fc4d54d",
   "metadata": {
    "id": "4fc4d54d"
   },
   "outputs": [
    {
     "name": "stdout",
     "output_type": "stream",
     "text": [
      "Loja Quase Dois - Tabela Preço\n",
      "1 - R$ 1.99\n",
      "2 - R$ 3.98\n",
      "3 - R$ 5.97\n",
      "4 - R$ 7.96\n",
      "5 - R$ 9.95\n",
      "6 - R$ 11.94\n",
      "7 - R$ 13.93\n",
      "8 - R$ 15.92\n",
      "9 - R$ 17.91\n",
      "10 - R$ 19.90\n",
      "11 - R$ 21.89\n",
      "12 - R$ 23.88\n",
      "13 - R$ 25.87\n",
      "14 - R$ 27.86\n",
      "15 - R$ 29.85\n",
      "16 - R$ 31.84\n",
      "17 - R$ 33.83\n",
      "18 - R$ 35.82\n",
      "19 - R$ 37.81\n",
      "20 - R$ 39.80\n",
      "21 - R$ 41.79\n",
      "22 - R$ 43.78\n",
      "23 - R$ 45.77\n",
      "24 - R$ 47.76\n",
      "25 - R$ 49.75\n",
      "26 - R$ 51.74\n",
      "27 - R$ 53.73\n",
      "28 - R$ 55.72\n",
      "29 - R$ 57.71\n",
      "30 - R$ 59.70\n",
      "31 - R$ 61.69\n",
      "32 - R$ 63.68\n",
      "33 - R$ 65.67\n",
      "34 - R$ 67.66\n",
      "35 - R$ 69.65\n",
      "36 - R$ 71.64\n",
      "37 - R$ 73.63\n",
      "38 - R$ 75.62\n",
      "39 - R$ 77.61\n",
      "40 - R$ 79.60\n",
      "41 - R$ 81.59\n",
      "42 - R$ 83.58\n",
      "43 - R$ 85.57\n",
      "44 - R$ 87.56\n",
      "45 - R$ 89.55\n",
      "46 - R$ 91.54\n",
      "47 - R$ 93.53\n",
      "48 - R$ 95.52\n",
      "49 - R$ 97.51\n",
      "50 - R$ 99.50\n"
     ]
    }
   ],
   "source": [
    "print('Loja Quase Dois - Tabela Preço')\n",
    "\n",
    "for i in range(50):\n",
    "    print(f'{i+1} - R$ {(i+1)*1.99:.2f}')"
   ]
  },
  {
   "cell_type": "markdown",
   "id": "6cd19c52",
   "metadata": {
    "id": "6cd19c52"
   },
   "source": [
    "#### 12. Um funcionário de uma empresa recebe aumento salarial anualmente: Sabe-se que:\n",
    "<pre>\n",
    "Esse funcionário foi contratado em 1995, com salário inicial de R$ 1.000,00;\n",
    "Em 1996 recebeu aumento de 1,5% sobre seu salário inicial;\n",
    "A partir de 1997 (inclusive), os aumentos salariais sempre correspondem ao dobro do percentual do ano anterior.\n",
    "Faça um programa que determine o salário desse funcionário em 2003. \n",
    "</pre>"
   ]
  },
  {
   "cell_type": "code",
   "execution_count": 15,
   "id": "98a4811b",
   "metadata": {
    "id": "98a4811b"
   },
   "outputs": [
    {
     "name": "stdout",
     "output_type": "stream",
     "text": [
      "porcentagem 1.92\n",
      "salario 13036.15\n",
      "--\n"
     ]
    }
   ],
   "source": [
    "salario = 1000 * 1.015\n",
    "porcentagem = 0.015\n",
    "\n",
    "for i in range(1997, 2004):\n",
    "    porcentagem *= 2\n",
    "    salario *= (1 + porcentagem)\n",
    "print(f'porcentagem {porcentagem}\\nsalario {salario:.2f}\\n--')"
   ]
  },
  {
   "cell_type": "markdown",
   "id": "227928d1",
   "metadata": {
    "id": "227928d1"
   },
   "source": [
    "#### 13. O cardápio de uma lanchonete é o seguinte:\n",
    "<pre>\n",
    "Especificação   Código  Preço\n",
    "Cachorro Quente 100     R$ 1,20\n",
    "Bauru Simples   101     R$ 1,30\n",
    "Bauru com ovo   102     R$ 1,50\n",
    "Hambúrguer      103     R$ 1,20\n",
    "Cheeseburguer   104     R$ 1,30\n",
    "Refrigerante    105     R$ 1,00\n",
    "Faça um programa que leia o código dos itens pedidos e as quantidades desejadas. \n",
    "Calcule e mostre o valor a ser pago por item (preço * quantidade) e o total geral do pedido. \n",
    "Considere que o cliente deve informar quando o pedido deve ser encerrado.\n",
    "</pre>"
   ]
  },
  {
   "cell_type": "code",
   "execution_count": 6,
   "id": "8a784b86",
   "metadata": {
    "id": "8a784b86"
   },
   "outputs": [
    {
     "name": "stdout",
     "output_type": "stream",
     "text": [
      "O total a ser pago é: R$  6.0\n"
     ]
    }
   ],
   "source": [
    "total = 0\n",
    "\n",
    "codigo = input('Digite o codigo do produto: ')\n",
    "\n",
    "while codigo != 'encerrar':\n",
    "    qtd = int(input('Digite a quantidade de itens: '))\n",
    "    if codigo == '100':\n",
    "        total += 1.2 * qtd\n",
    "    elif codigo == '101':\n",
    "        total += 1.3 * qtd\n",
    "    elif codigo == '102':\n",
    "        total += 1.5 * qtd\n",
    "    elif codigo == '103':\n",
    "        total += 1.2 * qtd\n",
    "    elif codigo == '104':\n",
    "        total += 1.3 * qtd\n",
    "    elif codigo == '105':\n",
    "        total += 1 * qtd\n",
    "\n",
    "    codigo = input('Informe o código do produto, caso deseje encerrar digite \"encerrar\": ')\n",
    "\n",
    "print('O total a ser pago é: R$ ', total)"
   ]
  },
  {
   "cell_type": "markdown",
   "id": "9877b8ba",
   "metadata": {
    "id": "9877b8ba"
   },
   "source": [
    "#### 14. Uma grande emissora de televisão quer fazer uma enquete entre os seus telespectadores para saber qual o melhor jogador após cada jogo. Para isto, faz-se necessário o desenvolvimento de um programa, que será utilizado pelas telefonistas, para a computação dos votos. Sua equipe foi contratada para desenvolver este programa, utilizando a linguagem de programação Python. Para computar cada voto, a telefonista digitará um número, entre 1 e 23, correspondente ao número da camisa do jogador. Um número de jogador igual zero, indica que a votação foi encerrada. Se um número inválido for digitado, o programa deve ignorá-lo, mostrando uma breve mensagem de aviso, e voltando a pedir outro número. Após o final da votação, o programa deverá exibir:\n",
    "<pre>a. O total de votos computados;\n",
    "b. Os números e respectivos votos de todos os jogadores que receberam votos;\n",
    "c. O percentual de votos de cada um destes jogadores;\n",
    "d. O número do jogador escolhido como o melhor jogador da partida, juntamente com o número de votos e o percentual de votos dados a ele.\n",
    "        Observe que os votos inválidos e o zero final não devem ser computados como votos. O resultado aparece ordenado pelo número do jogador. O programa deve fazer uso de arrays. O programa deverá executar o cálculo do percentual de cada jogador através de uma função. Esta função receberá dois parâmetros: o número de votos de um jogador e o total de votos. A função calculará o percentual e retornará o valor calculado. Abaixo segue uma tela de exemplo. O disposição das informações deve ser o mais próxima possível ao exemplo. Os dados são fictícios e podem mudar a cada execução do programa. Ao final, o programa deve ainda gravar os dados referentes ao resultado da votação em um arquivo texto no disco, obedecendo a mesma disposição apresentada na tela.</pre>\n",
    "```\n",
    "Enquete: Quem foi o melhor jogador?\n",
    "\n",
    "Número do jogador (0=fim): 9\n",
    "Número do jogador (0=fim): 10\n",
    "Número do jogador (0=fim): 9\n",
    "Número do jogador (0=fim): 10\n",
    "Número do jogador (0=fim): 11\n",
    "Número do jogador (0=fim): 10\n",
    "Número do jogador (0=fim): 50\n",
    "Informe um valor entre 1 e 23 ou 0 para sair!\n",
    "Número do jogador (0=fim): 9\n",
    "Número do jogador (0=fim): 9\n",
    "Número do jogador (0=fim): 0\n",
    "\n",
    "Resultado da votação:\n",
    "\n",
    "Foram computados 8 votos.\n",
    "\n",
    "Jogador Votos           %\n",
    "9               4               50,0%\n",
    "10              3               37,5%\n",
    "11              1               12,5%\n",
    "``` "
   ]
  },
  {
   "cell_type": "code",
   "execution_count": 1,
   "id": "79b82364",
   "metadata": {
    "id": "79b82364"
   },
   "outputs": [
    {
     "name": "stdout",
     "output_type": "stream",
     "text": [
      "Enquete: Quem foi o melhor jogador?\n",
      "\n",
      "Foram computados 21 votos.\n",
      "Jogador\tVotos\t%\n",
      "2\t1\t4.8%\n",
      "3\t5\t23.8%\n",
      "4\t2\t9.5%\n",
      "5\t2\t9.5%\n",
      "8\t1\t4.8%\n",
      "9\t1\t4.8%\n",
      "10\t7\t33.3%\n",
      "11\t2\t9.5%\n",
      "\n",
      "O melhor jogador foi o número 10, com 7 votos, correspondendo a 33% do total de votos.\n"
     ]
    }
   ],
   "source": [
    "print('Enquete: Quem foi o melhor jogador?')\n",
    "votos = [0] * 23\n",
    "\n",
    "while True:\n",
    "    numero = int(input('Número do jogador (0=fim): '))\n",
    "    if numero == 0:\n",
    "        break\n",
    "    if 1 <= numero <= 23:\n",
    "        votos[numero - 1] += 1\n",
    "    else:\n",
    "        print('Informe um valor entre 1 e 23 ou 0 para sair!')\n",
    "\n",
    "total = sum(votos)\n",
    "print(f'\\nForam computados {total} votos.')\n",
    "print('Jogador\\tVotos\\t%')\n",
    "for i, voto in enumerate(votos, start=1):\n",
    "    if voto > 0:\n",
    "        print(f'{i}\\t{voto}\\t{voto / total:.1%}')\n",
    "\n",
    "melhor = max(votos)\n",
    "if melhor > 0:\n",
    "    jogador = votos.index(melhor) + 1\n",
    "    print(f'\\nO melhor jogador foi o número {jogador}, com {melhor} votos, correspondendo a {melhor / total:.0%} do total de votos.')\n"
   ]
  }
 ],
 "metadata": {
  "colab": {
   "collapsed_sections": [],
   "provenance": []
  },
  "kernelspec": {
   "display_name": "base",
   "language": "python",
   "name": "python3"
  },
  "language_info": {
   "codemirror_mode": {
    "name": "ipython",
    "version": 3
   },
   "file_extension": ".py",
   "mimetype": "text/x-python",
   "name": "python",
   "nbconvert_exporter": "python",
   "pygments_lexer": "ipython3",
   "version": "3.11.7"
  }
 },
 "nbformat": 4,
 "nbformat_minor": 5
}
