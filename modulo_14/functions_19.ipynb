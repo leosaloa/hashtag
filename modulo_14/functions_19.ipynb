{
 "cells": [
  {
   "cell_type": "markdown",
   "id": "a2fee89b",
   "metadata": {},
   "source": [
    "### Forma de pensar"
   ]
  },
  {
   "cell_type": "code",
   "execution_count": null,
   "id": "1be9db7d",
   "metadata": {},
   "outputs": [],
   "source": [
    "# Top -> Down\n",
    "\n",
    "# Exemplo simples: atravessar a rua\n",
    "\n"
   ]
  },
  {
   "cell_type": "markdown",
   "id": "672e10e0",
   "metadata": {},
   "source": [
    "### Exemplo de Exercício do Curso"
   ]
  },
  {
   "cell_type": "markdown",
   "id": "fee80189",
   "metadata": {},
   "source": [
    "#### 23. Faça um Programa para uma loja de tintas. O programa deverá pedir o tamanho em metros quadrados da área a ser pintada. Considere que a cobertura da tinta é de 1 litro para cada 6 metros quadrados e que a tinta é vendida em latas de 18 litros, que custam R\\\\$ 80,00 ou em galões de 3,6 litros, que custam R\\\\$ 25,00."
   ]
  },
  {
   "cell_type": "code",
   "execution_count": 8,
   "id": "4499bb83",
   "metadata": {},
   "outputs": [
    {
     "name": "stdout",
     "output_type": "stream",
     "text": [
      "latas 1\n",
      "custos 80\n"
     ]
    }
   ],
   "source": [
    "# descobrir quantas latas de tinta equal custo para pintar\n",
    "    # descobrir quantas latas de tinta\n",
    "        # dscobrir a area que o usuario vai pintar\n",
    "area = int(input('Quantos metros quadrados dejesa pintar (m³)?'))\n",
    "        # descobrir quantos litros vou precisar para a area\n",
    "litros = area / 6\n",
    "        # quantas latas preciso para chegar nessa quantidade de tinta\n",
    "latas = litros / 18\n",
    "if latas > int(latas):\n",
    "    latas = int(latas) + 1\n",
    "    # calcular o custo das latas de tinta\n",
    "        # quantidade de latas * preço da lata\n",
    "custo = latas * 80\n",
    "\n",
    "# 1 litro pinta 6 metros, cada lata tem 18 litros\n",
    "\n",
    "\n",
    "print(f'latas {latas}\\ncustos {custo}')"
   ]
  },
  {
   "cell_type": "markdown",
   "id": "0d5fa10a",
   "metadata": {},
   "source": [
    "##### Informe ao usuário as quantidades de tinta a serem compradas e os respectivos preços em 3 situações.\n",
    "\n",
    "Dica: lembre dos operadores // e % mostrados em exercícios anteriores<br>\n",
    "Dica1: numero // 10 vai te dar como resposta a parte inteira da divisão do número por 10. Ex: 7 // 3 = 2; 10 // 3 = 3<br> \n",
    "Dica2: numero % 10 vai te dar o resto da divisão do número por 10. Ex: 7 % 3 = 1; 10 % 3 = 1; 15 % 3 = 0\n",
    "\n",
    "##### 1. Comprar apenas latas de 18 litros: (apenas latas inteiras)"
   ]
  },
  {
   "cell_type": "code",
   "execution_count": 11,
   "id": "bc38cdcd",
   "metadata": {},
   "outputs": [
    {
     "name": "stdout",
     "output_type": "stream",
     "text": [
      "Dados\n",
      "area: 60\n",
      "litros: 10.0\n",
      "latas: 1\n",
      "custo: 80\n"
     ]
    }
   ],
   "source": [
    "def area_a_ser_pintada():\n",
    "    area = int(input('Quantos metros quadrados dejesa pintar (m³)?'))\n",
    "    return area\n",
    "\n",
    "def calcular_litros_tinta(area):\n",
    "    litros = area / 6\n",
    "    return litros\n",
    "\n",
    "def calcular_latas_litros(litros):\n",
    "    latas = litros / 18\n",
    "    if latas > int(latas):\n",
    "        latas = int(latas) + 1\n",
    "    return latas\n",
    "\n",
    "def calcular_custo(latas):\n",
    "    custo = latas * 80\n",
    "    return custo\n",
    "\n",
    "area = area_a_ser_pintada()\n",
    "litros = calcular_litros_tinta(area)\n",
    "latas = calcular_latas_litros(litros)\n",
    "custo = calcular_custo(latas)\n",
    "print(f'Dados\\narea: {area}\\nlitros: {litros}\\nlatas: {latas}\\ncusto: {custo}')"
   ]
  },
  {
   "cell_type": "markdown",
   "id": "15dc7322",
   "metadata": {},
   "source": [
    "##### 2. Comprar apenas galões de 3,6 litros: (apenas galoes inteiros)"
   ]
  },
  {
   "cell_type": "code",
   "execution_count": 13,
   "id": "6e0a01af",
   "metadata": {},
   "outputs": [
    {
     "name": "stdout",
     "output_type": "stream",
     "text": [
      "Dados\n",
      "area: 60\n",
      "litros: 10.0\n",
      "galoes: 3\n",
      "custo: 75\n"
     ]
    }
   ],
   "source": [
    "def area_a_ser_pintada():\n",
    "    area = int(input('Quantos metros quadrados dejesa pintar (m³)?'))\n",
    "    return area\n",
    "\n",
    "def calcular_litros_tinta(area):\n",
    "    litros = area / 6\n",
    "    return litros\n",
    "\n",
    "def calcular_galoes_litros(litros):\n",
    "    galoes = litros / 3.6\n",
    "    if galoes > int(galoes):\n",
    "        galoes = int(galoes) + 1\n",
    "    return galoes\n",
    "\n",
    "def calcular_custo(galoes):\n",
    "    custo = galoes * 25\n",
    "    return custo\n",
    "\n",
    "area = area_a_ser_pintada()\n",
    "litros = calcular_litros_tinta(area)\n",
    "galoes = calcular_galoes_litros(litros)\n",
    "custo = calcular_custo(galoes)\n",
    "print(f'Dados\\narea: {area}\\nlitros: {litros}\\ngaloes: {galoes}\\ncusto: {custo}')"
   ]
  },
  {
   "cell_type": "markdown",
   "id": "35e0aa11",
   "metadata": {},
   "source": [
    "##### 3. Misturar latas e galões, de forma que o desperdício de tinta seja menor. Sempre arredonde os valores para cima, isto é, considere latas cheias."
   ]
  },
  {
   "cell_type": "markdown",
   "id": "95a3d342",
   "metadata": {},
   "source": [
    "O custo da lata é 80/18 = 4,44 R\\\\$/L\n",
    "\n",
    "O custo do galão é 25/3,6 = 6,94 R\\\\$/L\n",
    "\n",
    "A lata é mais econômica, então todas as latas inteiras que pudermos usar devemos comprar em latas. Se ficar faltando alguma coisa para completar devemos avaliar se é melhor comprar latas ou galões. Exemplo:\n",
    "\n",
    "Se queremos comprar 90 litros. 5 latas dão exatamente 90 litros. Então devemos comprar tudo em latas.\n",
    "\n",
    "Se queremos comprar 95 litros. 5 latas dão exatamente 90 litros. Então devemos comprar pelo menos 5 latas e avaliar o que falta, se estes últimos 5 litros valem mais apenas em latas ou galões.\n",
    "\n",
    "Para os 5 litros faltantes precisamos de 2 galões que custam 50 reais no total. Ou de uma lata que custa 80 reais no total. Portanto, neste caso vale mais a pena usar 2 galões.\n",
    "\n",
    "Se queremos comprar 107 litros. 5 latas dão exatamente 90 litros. Então devemos comprar pelo menos 5 latas e avaliar o que falta, se estes últimos 5 litros valem mais apenas em latas ou galões.\n",
    "\n",
    "Para os 17 litros faltantes precisamos de 5 galões que custam 125 reais no total. Ou de uma lata que custa 80 reais no total. Portanto, neste caso vale mais a pena usar uma lata.\n",
    "\n",
    "3 galões custam 75 reais, 4 galões custam 100 reais. Então, se for possível completar com até 3 galões escolhe-se galões. Qualquer quantidade maior que 3 galões, usa-se latas.\n",
    "\n",
    "Podemos ir ao exercício:"
   ]
  },
  {
   "cell_type": "code",
   "execution_count": null,
   "id": "0e9847d9",
   "metadata": {},
   "outputs": [],
   "source": [
    "# pegar area aser pintata\n",
    "def area_a_ser_pintada():\n",
    "    area = int(input('Quantos metros quadrados dejesa pintar (m³)?'))\n",
    "    return area\n",
    "\n",
    "# quantos litros vou precisar de tinta\n",
    "def calcular_litros_tinta(area):\n",
    "    litros = area / 6\n",
    "    return litros\n",
    "\n",
    "# calcular quantas latas e galoes vou precisar\n",
    "    # calcular quantas latas inteiras vou precisar\n",
    "    # calcular quantos litros ainda faltam\n",
    "    # calcular quantos custa preencher esses litros que faltam com galoes\n",
    "    # calcular quantos custa preencher esses litros que faltam com latas\n",
    "    # escolher aopção mais barata\n",
    "\n",
    "def calcular_qtde_latas_galoes(litros):\n",
    "    latas = 0\n",
    "    galoes = 0\n",
    "\n",
    "    latas_inteiras = int(litros / 18)\n",
    "    litros_faltam = litros % 18\n",
    "\n",
    "    custo_extras_latas = 1 * 80\n",
    "\n",
    "    galoes = litros_faltam / 3.6\n",
    "    if galoes > int(galoes):\n",
    "        galoes = int(galoes) +1\n",
    "\n",
    "    custo_extras_galoes = galoes * 25\n",
    "\n",
    "    if custo_extras_latas < custo_extras_galoes:\n",
    "        latas = latas_inteiras + 1\n",
    "        galoes = 0\n",
    "    else:\n",
    "        latas = latas_inteiras    \n",
    "    return latas, galoes\n",
    "\n",
    "# calcular custo\n",
    "def calcular_custo(latas, galoes):\n",
    "    custo_galoes = galoes * 25\n",
    "    custo_latas = latas * 80\n",
    "    custo = custo_galoes + custo_latas\n",
    "    return custo"
   ]
  },
  {
   "cell_type": "code",
   "execution_count": 32,
   "id": "4e4b363c",
   "metadata": {},
   "outputs": [
    {
     "name": "stdout",
     "output_type": "stream",
     "text": [
      "10.0\n",
      "0\n",
      "3\n",
      "75\n"
     ]
    }
   ],
   "source": [
    "area = area_a_ser_pintada()\n",
    "litros = calcular_litros_tinta(area)\n",
    "latas, galoes = calcular_qtde_latas_galoes(litros)\n",
    "custo = calcular_custo(latas, galoes)\n",
    "\n",
    "\n",
    "print(litros)\n",
    "# print(latas_inteiras)\n",
    "print(latas)\n",
    "print(galoes)\n",
    "print(custo)\n",
    "\n"
   ]
  }
 ],
 "metadata": {
  "kernelspec": {
   "display_name": "base",
   "language": "python",
   "name": "python3"
  },
  "language_info": {
   "codemirror_mode": {
    "name": "ipython",
    "version": 3
   },
   "file_extension": ".py",
   "mimetype": "text/x-python",
   "name": "python",
   "nbconvert_exporter": "python",
   "pygments_lexer": "ipython3",
   "version": "3.11.7"
  }
 },
 "nbformat": 4,
 "nbformat_minor": 5
}
