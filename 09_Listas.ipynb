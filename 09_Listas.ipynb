{
 "cells": [
  {
   "cell_type": "markdown",
   "id": "2b04bbea",
   "metadata": {
    "id": "2b04bbea"
   },
   "source": [
    "# Listas\n",
    "\n",
    "<span style=\"color: red;\"><b>Todos os exercícios são feitos partindo-se do pressuposto de que todas as entradas são dadas de forma correta. Casos limite não mencionados no enunciado não são abordados porque não fazem parte do exercício.</b></span>"
   ]
  },
  {
   "cell_type": "markdown",
   "id": "dcb81b29",
   "metadata": {
    "id": "dcb81b29"
   },
   "source": [
    "#### 1. Faça um Programa que leia as vendas dos vendedores, mostre a venda de cada vendedor com o seu nome e a média de vendas. "
   ]
  },
  {
   "cell_type": "code",
   "execution_count": null,
   "id": "09c0d2b3",
   "metadata": {
    "id": "09c0d2b3"
   },
   "outputs": [],
   "source": [
    "vendas = [1000, 1500, 1200, 1300]\n",
    "vendedores = [\"Fulano\", \"Beltrano\", \"Ciclano\", \"Lira\"]"
   ]
  },
  {
   "cell_type": "code",
   "execution_count": 11,
   "id": "e0e4de70",
   "metadata": {},
   "outputs": [
    {
     "name": "stdout",
     "output_type": "stream",
     "text": [
      "O funcionario Fulano teve 1000 vendas\n",
      "O funcionario Beltrano teve 1500 vendas\n",
      "O funcionario Ciclano teve 1200 vendas\n",
      "O funcionario Lira teve 1300 vendas\n",
      "A media foi 1250\n"
     ]
    }
   ],
   "source": [
    "for i, venda in enumerate(vendas):\n",
    "    print(f'O funcionario {vendedores[i]} teve {venda} vendas')\n",
    "\n",
    "media = sum(vendas)/len(vendas)\n",
    "print(f'A media foi {media:.0f}')"
   ]
  },
  {
   "cell_type": "markdown",
   "id": "cbda91b3",
   "metadata": {
    "id": "cbda91b3"
   },
   "source": [
    "#### 2. Faça um Programa que crie uma lista com as médias de cada aluno, imprima as médias de cada aluno e a quantidade de alunos com média maior que 7."
   ]
  },
  {
   "cell_type": "code",
   "execution_count": 1,
   "id": "c93dd233",
   "metadata": {
    "id": "c93dd233"
   },
   "outputs": [],
   "source": [
    "alunos = [\"José\", \"Joana\", \"Maria\", \"Carla\", \"Mauricio\", \"Andre\", \"Tiago\", \"Enzo\", \"Amanda\", \"Alessandra\"]\n",
    "notas = [\n",
    "    [10, 9, 8, 8],\n",
    "    [9, 7, 6, 4],\n",
    "    [10, 10, 10, 10],\n",
    "    [5, 3, 10, 9],\n",
    "    [7, 6, 6, 6],\n",
    "    [7, 7, 8, 7],\n",
    "    [7, 7, 7, 9],\n",
    "    [8, 5, 6, 7],\n",
    "    [10, 9, 7, 4],\n",
    "    [10, 1, 3, 3],\n",
    "]\n",
    "medias = []"
   ]
  },
  {
   "cell_type": "code",
   "execution_count": 11,
   "id": "7faebb85",
   "metadata": {},
   "outputs": [
    {
     "name": "stdout",
     "output_type": "stream",
     "text": [
      "José média 8.75\n",
      "Joana média 6.5\n",
      "Maria média 10.0\n",
      "Carla média 6.75\n",
      "Mauricio média 6.25\n",
      "Andre média 7.25\n",
      "Tiago média 7.5\n",
      "Enzo média 6.5\n",
      "Amanda média 7.5\n",
      "Alessandra média 4.25\n",
      "18 alunos tiveram a nota maior ou igual a 7\n"
     ]
    }
   ],
   "source": [
    "for i in range(len(notas)):\n",
    "    media = sum(notas[i])/len(notas[i])\n",
    "    medias.append(media)\n",
    "    print(f'{alunos[i]} média {media}')\n",
    "\n",
    "count = 0\n",
    "for media in medias:\n",
    "    if media >= 7:\n",
    "        count += 1\n",
    "print(f'{count} alunos tiveram a nota maior ou igual a 7')"
   ]
  },
  {
   "cell_type": "markdown",
   "id": "c3068a53",
   "metadata": {
    "id": "c3068a53"
   },
   "source": [
    "#### 3. Foram anotadas as idades e salários de 30 funcionários. Faça um programa que determine quantos funcionários com mais de 25 anos possuem salário inferior à média de todos os salários."
   ]
  },
  {
   "cell_type": "code",
   "execution_count": 6,
   "id": "0308566d",
   "metadata": {
    "id": "0308566d",
    "scrolled": true
   },
   "outputs": [],
   "source": [
    "idades = [35,32,50,33,48,50,33,48,22,49,35,38,20,47,49,48,34,21,48,44,48,30,25,42,42,23,25,23,38,35]\n",
    "salarios = [3739,2219,3554,3978,4014,3270,4792,3879,2981,2384,4826,2460,3680,4318,1872,1770,4640,3929,3295,1729,3965,4267,4007,1916,2987,2943,3852,4543,2055,1730]"
   ]
  },
  {
   "cell_type": "code",
   "execution_count": null,
   "id": "c61e651b",
   "metadata": {},
   "outputs": [
    {
     "name": "stdout",
     "output_type": "stream",
     "text": [
      "Há 12 funcionarios com o salario menor que R$ 3319.80\n"
     ]
    }
   ],
   "source": [
    "media_salario = sum(salarios) / len(salarios)\n",
    "count = 0\n",
    "\n",
    "for i in range(len(salarios)):\n",
    "     if idades[i] > 25 and salarios[i] < media_salario:\n",
    "          count += 1\n",
    "print(f'Há {count} funcionarios com o salario menor que R$ {media_salario:.2f}')"
   ]
  },
  {
   "cell_type": "markdown",
   "id": "1611081b",
   "metadata": {
    "id": "1611081b"
   },
   "source": [
    "#### 4.Em quais meses a média de temperatura foi maior do que a média nacional?"
   ]
  },
  {
   "cell_type": "code",
   "execution_count": 8,
   "id": "62f72e2b",
   "metadata": {
    "id": "62f72e2b"
   },
   "outputs": [],
   "source": [
    "meses = [\n",
    "    'Janeiro',\n",
    "    'Fevereiro',\n",
    "    'Março',\n",
    "    'Abril',\n",
    "    'Maio',\n",
    "    'Junho',\n",
    "    'Julho',\n",
    "    'Agosto',\n",
    "    'Setembro',\n",
    "    'Outubro',\n",
    "    'Novembro',\n",
    "    'Dezembro'\n",
    "]\n",
    "\n",
    "temperaturas = [30, 29, 28, 28, 25, 26, 20, 21, 19, 25, 27, 32]\n"
   ]
  },
  {
   "cell_type": "code",
   "execution_count": null,
   "id": "5072be1a",
   "metadata": {},
   "outputs": [
    {
     "name": "stdout",
     "output_type": "stream",
     "text": [
      "O mes Janeiro, teve a temperatura maior que a media 26\n",
      "O mes Fevereiro, teve a temperatura maior que a media 26\n",
      "O mes Março, teve a temperatura maior que a media 26\n",
      "O mes Abril, teve a temperatura maior que a media 26\n",
      "O mes Junho, teve a temperatura maior que a media 26\n",
      "O mes Novembro, teve a temperatura maior que a media 26\n",
      "O mes Dezembro, teve a temperatura maior que a media 26\n"
     ]
    }
   ],
   "source": [
    "media_temperatura = sum(temperaturas) / len(temperaturas)\n",
    "\n",
    "for i in range(len(temperaturas)):\n",
    "    if temperaturas[i] > media_temperatura:\n",
    "        print(f'O mes {meses[i]}, teve a temperatura maior que a media')"
   ]
  },
  {
   "cell_type": "markdown",
   "id": "8946af31",
   "metadata": {
    "id": "8946af31"
   },
   "source": [
    "#### 5. As Organizações Tabajara resolveram dar um abono aos seus colaboradores em reconhecimento ao bom resultado alcançado durante o ano que passou. Para isto contratou você para desenvolver a aplicação que servirá como uma projeção de quanto será gasto com o pagamento deste abono.\n",
    "<pre>Após reuniões envolvendo a diretoria executiva, a diretoria financeira e os representantes do sindicato laboral, chegou-se a seguinte forma de cálculo:\n",
    ". Cada funcionário receberá o equivalente a 20% do seu salário bruto de dezembro;\n",
    ". O piso do abono será de 100 reais, isto é, aqueles funcionários cujo salário for muito baixo, recebem este valor mínimo; \n",
    "\n",
    "Neste momento, não se deve ter nenhuma preocupação com colaboradores com tempo menor de casa, descontos, impostos ou outras particularidades. O programa deverá calcular o valor do abono concedido a cada colaborador, de acordo com a regra definida acima. Ao final, o programa deverá apresentar:</pre>\n",
    "<pre>\n",
    "O salário de cada funcionário, juntamente com o valor do abono;\n",
    "O número total de funcionário processados;\n",
    "O valor total a ser gasto com o pagamento do abono;\n",
    "O número de funcionário que receberá o valor mínimo de 100 reais;\n",
    "O maior valor pago como abono; A tela abaixo é um exemplo de execução do programa, apenas para fins ilustrativos.\n",
    "<pre>\n",
    "Projeção de Gastos com Abono\n",
    "============================ \n",
    " \n",
    "Salário: 1000\n",
    "Salário: 300\n",
    "Salário: 500\n",
    "Salário: 100\n",
    "Salário: 4500\n",
    "Salário: 0\n",
    " \n",
    "Salário    - Abono     \n",
    "R$ 1000.00 - R$  200.00\n",
    "R$  300.00 - R$  100.00\n",
    "R$  500.00 - R$  100.00\n",
    "R$  100.00 - R$  100.00\n",
    "R$ 4500.00 - R$  900.00\n",
    " \n",
    "Foram processados 5 colaboradores\n",
    "Total gasto com abonos: R$ 1400.00\n",
    "Valor mínimo pago a 3 colaboradores\n",
    "Maior valor de abono pago: R$ 900.00"
   ]
  },
  {
   "cell_type": "code",
   "execution_count": 41,
   "id": "fadbcfb2",
   "metadata": {
    "id": "fadbcfb2"
   },
   "outputs": [],
   "source": [
    "lista_salarios = [1000, 300, 500, 200, 1500, 3000, 3400, 5000, 7000, 2000, 600, 800, 250, 1500, 20000]\n",
    "abonos = []\n"
   ]
  },
  {
   "cell_type": "code",
   "execution_count": 42,
   "id": "0482c289",
   "metadata": {},
   "outputs": [
    {
     "name": "stdout",
     "output_type": "stream",
     "text": [
      "Salário: R$ 1000 - Abono: R$ 200\n",
      "Salário: R$ 300 - Abono: R$ 100\n",
      "Salário: R$ 500 - Abono: R$ 100\n",
      "Salário: R$ 200 - Abono: R$ 100\n",
      "Salário: R$ 1500 - Abono: R$ 300\n",
      "Salário: R$ 3000 - Abono: R$ 600\n",
      "Salário: R$ 3400 - Abono: R$ 680\n",
      "Salário: R$ 5000 - Abono: R$ 1000\n",
      "Salário: R$ 7000 - Abono: R$ 1400\n",
      "Salário: R$ 2000 - Abono: R$ 400\n",
      "Salário: R$ 600 - Abono: R$ 120\n",
      "Salário: R$ 800 - Abono: R$ 160\n",
      "Salário: R$ 250 - Abono: R$ 100\n",
      "Salário: R$ 1500 - Abono: R$ 300\n",
      "Salário: R$ 20000 - Abono: R$ 4000\n",
      "Foram processados 15 colaboradores\n",
      "Total gasto com abonos: R$ 9560\n",
      "Valor mínimo pago a 3 colaboradores\n",
      "Maior valor de abono pago: R$ 4000\n"
     ]
    }
   ],
   "source": [
    "abono_min = 0\n",
    "for i in range(len(lista_salarios)):\n",
    "    if (lista_salarios[i] * 0.2) < 100:\n",
    "        abonos.append(100)\n",
    "        abono_min += 1\n",
    "    else:\n",
    "        abonos.append(lista_salarios[i] * 0.2)\n",
    "    print(f'Salário: R$ {lista_salarios[i]:.0f} - Abono: R$ {abonos[i]:.0f}')\n",
    "print(f'Foram processados {len(lista_salarios)} colaboradores')\n",
    "print(f'Total gasto com abonos: R$ {sum(abonos):.0f}')\n",
    "print(f'Valor mínimo pago a {abono_min:.0f} colaboradores')\n",
    "print(f'Maior valor de abono pago: R$ {max(abonos):.0f}')"
   ]
  },
  {
   "cell_type": "markdown",
   "id": "382b0981",
   "metadata": {
    "id": "382b0981"
   },
   "source": [
    "#### 6. Faça um programa que carregue uma lista com os modelos de cinco carros (exemplo de modelos: FUSCA, GOL, VECTRA etc). Carregue uma outra lista com o consumo desses carros, isto é, quantos quilômetros cada um desses carros faz com um litro de combustível. Calcule e mostre:\n",
    "<pre>\n",
    "a. O modelo do carro mais econômico;\n",
    "b. Quantos litros de combustível cada um dos carros cadastrados consome para percorrer uma distância de 1000 quilômetros e quanto isto custará, considerando um que a gasolina custe R$ 2,25 o litro. Abaixo segue uma tela de exemplo. O disposição das informações deve ser o mais próxima possível ao exemplo. Os dados são fictícios e podem mudar a cada execução do programa.</pre>\n",
    "```\n",
    "Comparativo de Consumo de Combustível\n",
    "\n",
    "Veículo 1\n",
    "Nome: fusca\n",
    "Km por litro: 7\n",
    "Veículo 2\n",
    "Nome: gol\n",
    "Km por litro: 10\n",
    "Veículo 3\n",
    "Nome: uno\n",
    "Km por litro: 12.5\n",
    "Veículo 4\n",
    "Nome: Vectra\n",
    "Km por litro: 9\n",
    "Veículo 5\n",
    "Nome: Peugeout\n",
    "Km por litro: 14.5\n",
    "\n",
    "Relatório Final\n",
    " 1 - fusca           -    7.0 -  142.9 litros - R$ 321.43\n",
    " 2 - gol             -   10.0 -  100.0 litros - R$ 225.00\n",
    " 3 - uno             -   12.5 -   80.0 litros - R$ 180.00\n",
    " 4 - vectra          -    9.0 -  111.1 litros - R$ 250.00\n",
    " 5 - peugeout        -   14.5 -   69.0 litros - R$ 155.17\n",
    "O menor consumo é do peugeout.\n",
    "```"
   ]
  },
  {
   "cell_type": "code",
   "execution_count": 43,
   "id": "6b6c8b06",
   "metadata": {
    "id": "6b6c8b06"
   },
   "outputs": [
    {
     "name": "stdout",
     "output_type": "stream",
     "text": [
      "Comparativo de Consumo de Combustível\n",
      "Relatório Final\n"
     ]
    }
   ],
   "source": [
    "print('Comparativo de Consumo de Combustível')\n",
    "veiculos = ['fusca','gol', 'fox', 'vectra', 'civic']\n",
    "autonomias = [7, 10, 12.5, 9, 14.5]\n",
    "gasolina = 2.25\n",
    "\n",
    "print('Relatório Final')"
   ]
  },
  {
   "cell_type": "code",
   "execution_count": 45,
   "id": "cb735f86",
   "metadata": {},
   "outputs": [
    {
     "name": "stdout",
     "output_type": "stream",
     "text": [
      "1 - fusca - 7 - 142.9 litros - R$ 321.43\n",
      "2 - gol - 10 - 100.0 litros - R$ 225.00\n",
      "3 - fox - 12.5 - 80.0 litros - R$ 180.00\n",
      "4 - vectra - 9 - 111.1 litros - R$ 250.00\n",
      "5 - civic - 14.5 - 69.0 litros - R$ 155.17\n",
      "O menor consuto é do civic\n"
     ]
    }
   ],
   "source": [
    "\n",
    "for i in range(len(veiculos)):\n",
    "    print(f'{i+1} - {veiculos[i]} - {autonomias[i]} - {1000 /autonomias[i]:.1f} litros - R$ {1000 /autonomias[i] * gasolina:.2f}')\n",
    "maior = max(autonomias)\n",
    "i = autonomias.index(maior)\n",
    "print(f'O menor consuto é do {veiculos[i]}')"
   ]
  },
  {
   "cell_type": "markdown",
   "id": "1d0260a3",
   "metadata": {
    "id": "1d0260a3"
   },
   "source": [
    "#### 7. Uma empresa paga seus vendedores com base em comissões. O vendedor recebe \\\\$200 por semana mais 9 por cento de suas vendas brutas daquela semana. Por exemplo, um vendedor que teve vendas brutas de \\\\$3000 em uma semana recebe \\\\$200 mais 9 por cento de \\\\$3000, ou seja, um total de \\\\$470. Escreva um programa (usando um array de contadores) que determine quantos vendedores receberam salários nos seguintes intervalos de valores:\n",
    "<pre>\n",
    "$200 - $299\n",
    "$300 - $399\n",
    "$400 - $499\n",
    "$500 - $599\n",
    "$600 - $699\n",
    "$700 - $799\n",
    "$800 - $899\n",
    "$900 - $999\n",
    "$1000 em diante\n",
    "</pre>\n",
    "\n",
    "Existem várias formas de fazer. Faça primeiro da forma que parecer mais intuitiva para você.\n",
    "\n",
    "Em seguida, caso queira um desafio:\n",
    "Desafio: Crie uma forma para chegar na posição da lista a partir do salário, sem fazer vários ifs aninhados."
   ]
  },
  {
   "cell_type": "code",
   "execution_count": null,
   "id": "fc6eaae4",
   "metadata": {
    "id": "fc6eaae4"
   },
   "outputs": [
    {
     "name": "stdout",
     "output_type": "stream",
     "text": [
      "Salario R$ 1000 - Comissão R$ 290.0 - Total R$ 1290.0\n",
      "Salario R$ 2000 - Comissão R$ 380.0 - Total R$ 2380.0\n",
      "Salario R$ 3000 - Comissão R$ 470.0 - Total R$ 3470.0\n",
      "Salario R$ 4000 - Comissão R$ 560.0 - Total R$ 4560.0\n",
      "Salario R$ 5000 - Comissão R$ 650.0 - Total R$ 5650.0\n",
      "Salario R$ 6000 - Comissão R$ 740.0 - Total R$ 6740.0\n",
      "Salario R$ 5500 - Comissão R$ 695.0 - Total R$ 6195.0\n",
      "Salario R$ 4500 - Comissão R$ 605.0 - Total R$ 5105.0\n",
      "Salario R$ 3600 - Comissão R$ 524.0 - Total R$ 4124.0\n"
     ]
    }
   ],
   "source": [
    "vendas = [1000, 2000, 3000, 4000, 5000, 6000, 5500, 4500, 3600]\n",
    "\n",
    "for venda in vendas:\n",
    "    print(f'Salario R$ {venda} - Comissão R$ {200 + (venda * 0.09)} - Total R$ {venda + (200 + (venda * 0.09))}')"
   ]
  }
 ],
 "metadata": {
  "colab": {
   "provenance": []
  },
  "kernelspec": {
   "display_name": "base",
   "language": "python",
   "name": "python3"
  },
  "language_info": {
   "codemirror_mode": {
    "name": "ipython",
    "version": 3
   },
   "file_extension": ".py",
   "mimetype": "text/x-python",
   "name": "python",
   "nbconvert_exporter": "python",
   "pygments_lexer": "ipython3",
   "version": "3.11.7"
  }
 },
 "nbformat": 4,
 "nbformat_minor": 5
}
