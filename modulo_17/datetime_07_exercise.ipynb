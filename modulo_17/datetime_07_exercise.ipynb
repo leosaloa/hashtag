{
 "cells": [
  {
   "cell_type": "markdown",
   "metadata": {},
   "source": [
    "## Oferecendo desconto para cliente com base na última compra\n",
    "\n",
    "Suponha que você está trabalhando para uma empresa que deseja rastrear a atividade do cliente. Uma métrica que eles estão interessados é o tempo que passou desde a última transação do cliente. Se for muito tempo, eles podem oferecer um desconto para o cliente. Crie um script Python que mostra quanto tempo se passou desde a última compra do cliente. Se faz mais de 30 dias, mostre uma mensagem oferecendo um desconto para o cliente."
   ]
  },
  {
   "cell_type": "code",
   "execution_count": 7,
   "metadata": {},
   "outputs": [
    {
     "name": "stdout",
     "output_type": "stream",
     "text": [
      "2025-06-01 00:00:00 \n",
      " 2025-07-29 18:06:57.119197\n",
      "58\n",
      "Voce tem um cupom de desconto de 10% para sua proxima compra!\n"
     ]
    }
   ],
   "source": [
    "from datetime import datetime\n",
    "\n",
    "ultima_compra = datetime(2025, 6, 1)\n",
    "data_atual = datetime.now()\n",
    "\n",
    "print(ultima_compra, '\\n', data_atual)\n",
    "\n",
    "diferenca = data_atual - ultima_compra\n",
    "diferenca = diferenca.days\n",
    "\n",
    "print(diferenca)\n",
    "\n",
    "if diferenca > 30:\n",
    "    print(f'Voce tem um cupom de desconto de 10% para sua proxima compra!')"
   ]
  },
  {
   "cell_type": "markdown",
   "metadata": {},
   "source": [
    "## Data e hora em diferentes fusos horários\n",
    "\n",
    "Uma empresa tem escritórios em São Paulo, Nova York e Tóquio. Crie um script Python que mostra a data e hora atuais nesses três fusos horários. Exiba, também, se estes escritórios estão abertos ou fechados (9h às 17h).\n"
   ]
  },
  {
   "cell_type": "code",
   "execution_count": 29,
   "metadata": {},
   "outputs": [
    {
     "name": "stdout",
     "output_type": "stream",
     "text": [
      "Estamos abertos! Horario de SP: 16h\n"
     ]
    }
   ],
   "source": [
    "import pytz\n",
    "from datetime import datetime\n",
    "\n",
    "br_sp = pytz.timezone('America/Sao_Paulo')\n",
    "usa_ny = pytz.timezone('America/New_York')\n",
    "jp_tokyo = pytz.timezone('Asia/Tokyo')\n",
    "\n",
    "horario_br_sp = datetime.now(br_sp).hour\n",
    "# horario_br_sp = data_br_sp.hour\n",
    "horario_usa_ny = datetime.now(usa_ny).hour\n",
    "horario_jp_tokyo = datetime.now(jp_tokyo).hour\n",
    "\n",
    "# print(horario_br_sp)\n",
    "# print(horario_usa_ny)\n",
    "# print(horario_jp_tokyo)\n",
    "\n",
    "opcao = int(input('Escolha uma opcao: \\n1 - Ver horario de SP\\n2 - Ver horario de NY\\n3 - Ver horario de Tokyo\\n'))\n",
    "\n",
    "def fuso_horario(opcao):\n",
    "    if opcao == 1:\n",
    "        if 9 <= horario_br_sp <= 17:\n",
    "            print(f'Estamos abertos! Horario de SP: {horario_br_sp}h')\n",
    "        else:\n",
    "            print(f'Estamos fechados! Horario de funcionamento: 9h as 17h! Horario de SP: {horario_br_sp}h')\n",
    "    elif opcao == 2:\n",
    "        if 9 <= horario_usa_ny <= 17:\n",
    "            print(f'Estamos abertos! Horario de NY: {horario_usa_ny}h')\n",
    "        else:\n",
    "            print(f'Estamos fechados! Horario de funcionamento: 9h as 17h! Horario de NY: {horario_usa_ny}h')\n",
    "    elif opcao == 3:\n",
    "        if 9 <= horario_jp_tokyo <= 17:\n",
    "            print(f'Estamos abertos! Horario de Tokyo: {horario_jp_tokyo}h')\n",
    "        else:\n",
    "            print(f'Estamos fechados! Horario de funcionamento: 9h as 17h! Horario de Tokyo: {horario_jp_tokyo}h')\n",
    "    else:\n",
    "        print('Opcao invalida! Escolha 1, 2 ou 3.')\n",
    "\n",
    "fuso_horario(opcao)"
   ]
  }
 ],
 "metadata": {
  "kernelspec": {
   "display_name": "base",
   "language": "python",
   "name": "python3"
  },
  "language_info": {
   "codemirror_mode": {
    "name": "ipython",
    "version": 3
   },
   "file_extension": ".py",
   "mimetype": "text/x-python",
   "name": "python",
   "nbconvert_exporter": "python",
   "pygments_lexer": "ipython3",
   "version": "3.11.7"
  }
 },
 "nbformat": 4,
 "nbformat_minor": 4
}
