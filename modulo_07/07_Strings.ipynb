{
 "cells": [
  {
   "cell_type": "markdown",
   "id": "2b04bbea",
   "metadata": {},
   "source": [
    "# Strings\n",
    "\n",
    "<span style=\"color: red;\"><b>Todos os exercícios são feitos partindo-se do pressuposto de que todas as entradas são dadas de forma correta. Casos limite não mencionados no enunciado não são abordados porque não fazem parte do exercício.</b></span>"
   ]
  },
  {
   "cell_type": "markdown",
   "id": "5b1f33b9",
   "metadata": {},
   "source": [
    "#### 1. Tamanho de strings. Faça um programa que leia 2 strings e informe o conteúdo delas seguido do seu comprimento. Informe também se as duas strings possuem o mesmo comprimento e são iguais ou diferentes no conteúdo.\n",
    "<pre>\n",
    "Compara duas strings\n",
    "String 1: Brasil Hexa 2006\n",
    "String 2: Brasil! Hexa 2006!\n",
    "Tamanho de \"Brasil Hexa 2006\": 16 caracteres\n",
    "Tamanho de \"Brasil! Hexa 2006!\": 18 caracteres\n",
    "As duas strings são de tamanhos diferentes.\n",
    "As duas strings possuem conteúdo diferente.\n",
    "</pre>"
   ]
  },
  {
   "cell_type": "code",
   "execution_count": 3,
   "id": "c492b657",
   "metadata": {},
   "outputs": [
    {
     "name": "stdout",
     "output_type": "stream",
     "text": [
      "Tamanho de \"teste\": 5 caracteres\n",
      "Tamanho de \"detrd\": 5 caracteres\n",
      "As duas strings são de tamanhos iguais.\n",
      "As duas strings possuem conteúdo diferentes.\n"
     ]
    }
   ],
   "source": [
    "string_1 = str(input('Digite o primeiro texto: '))\n",
    "string_2 = str(input('Digite o segundo texto: '))\n",
    "\n",
    "print(f'Tamanho de \"{string_1}\": {len(string_1)} caracteres')\n",
    "print(f'Tamanho de \"{string_2}\": {len(string_2)} caracteres')\n",
    "if len(string_1) != len(string_2) and string_1.strip() != string_2.strip():\n",
    "    print('As duas strings são de tamanhos diferentes.')\n",
    "    print('As duas strings possuem conteúdo diferente.')\n",
    "elif len(string_1) == len(string_2) and string_1.strip() == string_2.strip():\n",
    "    print('As duas strings são de tamanhos iguais.')\n",
    "    print('As duas strings possuem conteúdo iguais.')\n",
    "elif len(string_1) != len(string_2) and string_1.strip() == string_2.strip():\n",
    "    print('As duas strings são de tamanhos diferentes.')\n",
    "    print('As duas strings possuem conteúdo iguais.')\n",
    "elif len(string_1) == len(string_2) and string_1.strip() != string_2.strip():\n",
    "    print('As duas strings são de tamanhos iguais.')\n",
    "    print('As duas strings possuem conteúdo diferentes.')\n",
    "\n"
   ]
  },
  {
   "cell_type": "markdown",
   "id": "c3068a53",
   "metadata": {},
   "source": [
    "#### 2. Valida e corrige número de telefone. Faça um programa que leia um número de telefone, e corrija o número no caso deste conter somente 7 dígitos, acrescentando o '3' na frente. O usuário pode informar o número com ou sem o traço separador.\n",
    "<pre>\n",
    "Valida e corrige número de telefone\n",
    "Telefone: 461-0133\n",
    "Telefone possui 7 dígitos. Vou acrescentar o digito três na frente.\n",
    "Telefone corrigido sem formatação: 34610133\n",
    "Telefone corrigido com formatação: 3461-0133\n",
    "</pre>"
   ]
  },
  {
   "cell_type": "code",
   "execution_count": 11,
   "id": "0308566d",
   "metadata": {},
   "outputs": [
    {
     "name": "stdout",
     "output_type": "stream",
     "text": [
      "Telefone sem formatação: 58789547\n",
      "Telefone com formatação: 5878-9547\n"
     ]
    }
   ],
   "source": [
    "telefone = input('Digite o numero de telefone: ')\n",
    "\n",
    "if len(telefone) == 7:\n",
    "    print('Telefone possui 7 digitos, adicionamos o 3 na frente')\n",
    "    print(f'Telefone sem formatação: 3{telefone}')\n",
    "    print(f'Telefone com formatação: 3{telefone[:3]}-{telefone[3:]}')\n",
    "else:\n",
    "    print(f'Telefone sem formatação: {telefone}')\n",
    "    print(f'Telefone com formatação: {telefone[:4]}-{telefone[4:]}')"
   ]
  }
 ],
 "metadata": {
  "kernelspec": {
   "display_name": "Python 3 (ipykernel)",
   "language": "python",
   "name": "python3"
  },
  "language_info": {
   "codemirror_mode": {
    "name": "ipython",
    "version": 3
   },
   "file_extension": ".py",
   "mimetype": "text/x-python",
   "name": "python",
   "nbconvert_exporter": "python",
   "pygments_lexer": "ipython3",
   "version": "3.11.5"
  }
 },
 "nbformat": 4,
 "nbformat_minor": 5
}
