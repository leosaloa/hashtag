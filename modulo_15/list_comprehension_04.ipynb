{
 "cells": [
  {
   "cell_type": "markdown",
   "metadata": {},
   "source": [
    "# List Comprehensions com if para \"filtrar\" itens\n",
    "\n",
    "### Estrutura:"
   ]
  },
  {
   "cell_type": "raw",
   "metadata": {},
   "source": [
    "lista = [expressão for item in iterable if condicao]"
   ]
  },
  {
   "cell_type": "markdown",
   "metadata": {},
   "source": [
    "- Digamos que eu queira criar uma lista de produtos que bateram a meta."
   ]
  },
  {
   "cell_type": "code",
   "execution_count": 1,
   "metadata": {},
   "outputs": [],
   "source": [
    "meta = 1000\n",
    "vendas_produtos = [1500, 150, 2100, 1950]\n",
    "produtos = ['vinho', 'cafeiteira', 'microondas', 'iphone']"
   ]
  },
  {
   "cell_type": "markdown",
   "metadata": {},
   "source": [
    "Fazendo por For tradicional"
   ]
  },
  {
   "cell_type": "code",
   "execution_count": 5,
   "metadata": {},
   "outputs": [
    {
     "name": "stdout",
     "output_type": "stream",
     "text": [
      "['vinho', 'microondas', 'iphone']\n"
     ]
    }
   ],
   "source": [
    "produtos_vendidos = list(zip(vendas_produtos, produtos))\n",
    "bateu_meta = []\n",
    "\n",
    "for valor, produto in produtos_vendidos:\n",
    "    if valor >= meta:\n",
    "        bateu_meta.append(produto)\n",
    "print(bateu_meta)"
   ]
  },
  {
   "cell_type": "markdown",
   "metadata": {},
   "source": [
    "Fazendo por list comprehension"
   ]
  },
  {
   "cell_type": "code",
   "execution_count": 8,
   "metadata": {},
   "outputs": [
    {
     "name": "stdout",
     "output_type": "stream",
     "text": [
      "['vinho', 'microondas', 'iphone']\n"
     ]
    }
   ],
   "source": [
    "bateu_meta2 = [produto for valor, produto in produtos_vendidos if valor >= meta]\n",
    "\n",
    "print(bateu_meta2)"
   ]
  }
 ],
 "metadata": {
  "kernelspec": {
   "display_name": "base",
   "language": "python",
   "name": "python3"
  },
  "language_info": {
   "codemirror_mode": {
    "name": "ipython",
    "version": 3
   },
   "file_extension": ".py",
   "mimetype": "text/x-python",
   "name": "python",
   "nbconvert_exporter": "python",
   "pygments_lexer": "ipython3",
   "version": "3.11.7"
  }
 },
 "nbformat": 4,
 "nbformat_minor": 4
}
